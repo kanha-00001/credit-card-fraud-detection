{
  "cells": [
    {
      "cell_type": "markdown",
      "id": "42a45a5a",
      "metadata": {
        "id": "42a45a5a"
      },
      "source": [
        "# **CreditCard Fraud Detection Using NeuralNet**\n",
        "\n",
        "## **Introduction**\n",
        "#### This notebook is of a classification model training and testing on imbalanced data.\n",
        "\n",
        "The dataset(https://www.kaggle.com/datasets/mlg-ulb/creditcardfraud?resource=download) used for analysis contains information about credit card transactions carried out by European cardholders during a period of two days in September 2013. The dataset consists of 284,807 transactions in total, out of which only 492 were fraudulent.\n",
        "\n",
        "This dataset is highly imbalanced, with the positive class (frauds) accounting for only 0.172% of all transactions. In other words, the majority of transactions are legitimate, and the number of fraudulent transactions is very small in comparison. This presents a challenge for building a predictive model since the algorithm will be biased towards the majority class, and it may not be able to detect the minority class (frauds) accurately.\n",
        "\n",
        "Therefore, special care must be taken when analyzing this dataset to ensure that the predictive model does not falsely label legitimate transactions as fraudulent. Techniques such as oversampling, undersampling, and SMOTE can be used to balance the dataset, and improve the accuracy of the model."
      ]
    },
    {
      "cell_type": "code",
      "execution_count": 4,
      "id": "432ebdd0",
      "metadata": {
        "id": "432ebdd0"
      },
      "outputs": [],
      "source": [
        "import pandas as pd\n",
        "import matplotlib.pyplot as plt\n",
        "import seaborn as sns\n",
        "import numpy as np\n",
        "import warnings\n",
        "warnings.filterwarnings(\"ignore\")"
      ]
    },
    {
      "cell_type": "markdown",
      "id": "677d3a2e",
      "metadata": {
        "id": "677d3a2e"
      },
      "source": [
        "## **Load and prepare dataset**\n",
        "\n",
        "#### Simple pre-processing:\n"
      ]
    },
    {
      "cell_type": "code",
      "execution_count": 5,
      "id": "3451f102",
      "metadata": {
        "colab": {
          "base_uri": "https://localhost:8080/",
          "height": 255
        },
        "id": "3451f102",
        "outputId": "38bc7653-9e93-4f69-89a0-4aaabae1dade"
      },
      "outputs": [
        {
          "data": {
            "text/html": [
              "<div>\n",
              "<style scoped>\n",
              "    .dataframe tbody tr th:only-of-type {\n",
              "        vertical-align: middle;\n",
              "    }\n",
              "\n",
              "    .dataframe tbody tr th {\n",
              "        vertical-align: top;\n",
              "    }\n",
              "\n",
              "    .dataframe thead th {\n",
              "        text-align: right;\n",
              "    }\n",
              "</style>\n",
              "<table border=\"1\" class=\"dataframe\">\n",
              "  <thead>\n",
              "    <tr style=\"text-align: right;\">\n",
              "      <th></th>\n",
              "      <th>Time</th>\n",
              "      <th>V1</th>\n",
              "      <th>V2</th>\n",
              "      <th>V3</th>\n",
              "      <th>V4</th>\n",
              "      <th>V5</th>\n",
              "      <th>V6</th>\n",
              "      <th>V7</th>\n",
              "      <th>V8</th>\n",
              "      <th>V9</th>\n",
              "      <th>...</th>\n",
              "      <th>V21</th>\n",
              "      <th>V22</th>\n",
              "      <th>V23</th>\n",
              "      <th>V24</th>\n",
              "      <th>V25</th>\n",
              "      <th>V26</th>\n",
              "      <th>V27</th>\n",
              "      <th>V28</th>\n",
              "      <th>Amount</th>\n",
              "      <th>Class</th>\n",
              "    </tr>\n",
              "  </thead>\n",
              "  <tbody>\n",
              "    <tr>\n",
              "      <th>0</th>\n",
              "      <td>0.0</td>\n",
              "      <td>-1.359807</td>\n",
              "      <td>-0.072781</td>\n",
              "      <td>2.536347</td>\n",
              "      <td>1.378155</td>\n",
              "      <td>-0.338321</td>\n",
              "      <td>0.462388</td>\n",
              "      <td>0.239599</td>\n",
              "      <td>0.098698</td>\n",
              "      <td>0.363787</td>\n",
              "      <td>...</td>\n",
              "      <td>-0.018307</td>\n",
              "      <td>0.277838</td>\n",
              "      <td>-0.110474</td>\n",
              "      <td>0.066928</td>\n",
              "      <td>0.128539</td>\n",
              "      <td>-0.189115</td>\n",
              "      <td>0.133558</td>\n",
              "      <td>-0.021053</td>\n",
              "      <td>149.62</td>\n",
              "      <td>0</td>\n",
              "    </tr>\n",
              "    <tr>\n",
              "      <th>1</th>\n",
              "      <td>0.0</td>\n",
              "      <td>1.191857</td>\n",
              "      <td>0.266151</td>\n",
              "      <td>0.166480</td>\n",
              "      <td>0.448154</td>\n",
              "      <td>0.060018</td>\n",
              "      <td>-0.082361</td>\n",
              "      <td>-0.078803</td>\n",
              "      <td>0.085102</td>\n",
              "      <td>-0.255425</td>\n",
              "      <td>...</td>\n",
              "      <td>-0.225775</td>\n",
              "      <td>-0.638672</td>\n",
              "      <td>0.101288</td>\n",
              "      <td>-0.339846</td>\n",
              "      <td>0.167170</td>\n",
              "      <td>0.125895</td>\n",
              "      <td>-0.008983</td>\n",
              "      <td>0.014724</td>\n",
              "      <td>2.69</td>\n",
              "      <td>0</td>\n",
              "    </tr>\n",
              "    <tr>\n",
              "      <th>2</th>\n",
              "      <td>1.0</td>\n",
              "      <td>-1.358354</td>\n",
              "      <td>-1.340163</td>\n",
              "      <td>1.773209</td>\n",
              "      <td>0.379780</td>\n",
              "      <td>-0.503198</td>\n",
              "      <td>1.800499</td>\n",
              "      <td>0.791461</td>\n",
              "      <td>0.247676</td>\n",
              "      <td>-1.514654</td>\n",
              "      <td>...</td>\n",
              "      <td>0.247998</td>\n",
              "      <td>0.771679</td>\n",
              "      <td>0.909412</td>\n",
              "      <td>-0.689281</td>\n",
              "      <td>-0.327642</td>\n",
              "      <td>-0.139097</td>\n",
              "      <td>-0.055353</td>\n",
              "      <td>-0.059752</td>\n",
              "      <td>378.66</td>\n",
              "      <td>0</td>\n",
              "    </tr>\n",
              "    <tr>\n",
              "      <th>3</th>\n",
              "      <td>1.0</td>\n",
              "      <td>-0.966272</td>\n",
              "      <td>-0.185226</td>\n",
              "      <td>1.792993</td>\n",
              "      <td>-0.863291</td>\n",
              "      <td>-0.010309</td>\n",
              "      <td>1.247203</td>\n",
              "      <td>0.237609</td>\n",
              "      <td>0.377436</td>\n",
              "      <td>-1.387024</td>\n",
              "      <td>...</td>\n",
              "      <td>-0.108300</td>\n",
              "      <td>0.005274</td>\n",
              "      <td>-0.190321</td>\n",
              "      <td>-1.175575</td>\n",
              "      <td>0.647376</td>\n",
              "      <td>-0.221929</td>\n",
              "      <td>0.062723</td>\n",
              "      <td>0.061458</td>\n",
              "      <td>123.50</td>\n",
              "      <td>0</td>\n",
              "    </tr>\n",
              "    <tr>\n",
              "      <th>4</th>\n",
              "      <td>2.0</td>\n",
              "      <td>-1.158233</td>\n",
              "      <td>0.877737</td>\n",
              "      <td>1.548718</td>\n",
              "      <td>0.403034</td>\n",
              "      <td>-0.407193</td>\n",
              "      <td>0.095921</td>\n",
              "      <td>0.592941</td>\n",
              "      <td>-0.270533</td>\n",
              "      <td>0.817739</td>\n",
              "      <td>...</td>\n",
              "      <td>-0.009431</td>\n",
              "      <td>0.798278</td>\n",
              "      <td>-0.137458</td>\n",
              "      <td>0.141267</td>\n",
              "      <td>-0.206010</td>\n",
              "      <td>0.502292</td>\n",
              "      <td>0.219422</td>\n",
              "      <td>0.215153</td>\n",
              "      <td>69.99</td>\n",
              "      <td>0</td>\n",
              "    </tr>\n",
              "  </tbody>\n",
              "</table>\n",
              "<p>5 rows × 31 columns</p>\n",
              "</div>"
            ],
            "text/plain": [
              "   Time        V1        V2        V3        V4        V5        V6        V7  \\\n",
              "0   0.0 -1.359807 -0.072781  2.536347  1.378155 -0.338321  0.462388  0.239599   \n",
              "1   0.0  1.191857  0.266151  0.166480  0.448154  0.060018 -0.082361 -0.078803   \n",
              "2   1.0 -1.358354 -1.340163  1.773209  0.379780 -0.503198  1.800499  0.791461   \n",
              "3   1.0 -0.966272 -0.185226  1.792993 -0.863291 -0.010309  1.247203  0.237609   \n",
              "4   2.0 -1.158233  0.877737  1.548718  0.403034 -0.407193  0.095921  0.592941   \n",
              "\n",
              "         V8        V9  ...       V21       V22       V23       V24       V25  \\\n",
              "0  0.098698  0.363787  ... -0.018307  0.277838 -0.110474  0.066928  0.128539   \n",
              "1  0.085102 -0.255425  ... -0.225775 -0.638672  0.101288 -0.339846  0.167170   \n",
              "2  0.247676 -1.514654  ...  0.247998  0.771679  0.909412 -0.689281 -0.327642   \n",
              "3  0.377436 -1.387024  ... -0.108300  0.005274 -0.190321 -1.175575  0.647376   \n",
              "4 -0.270533  0.817739  ... -0.009431  0.798278 -0.137458  0.141267 -0.206010   \n",
              "\n",
              "        V26       V27       V28  Amount  Class  \n",
              "0 -0.189115  0.133558 -0.021053  149.62      0  \n",
              "1  0.125895 -0.008983  0.014724    2.69      0  \n",
              "2 -0.139097 -0.055353 -0.059752  378.66      0  \n",
              "3 -0.221929  0.062723  0.061458  123.50      0  \n",
              "4  0.502292  0.219422  0.215153   69.99      0  \n",
              "\n",
              "[5 rows x 31 columns]"
            ]
          },
          "execution_count": 5,
          "metadata": {},
          "output_type": "execute_result"
        }
      ],
      "source": [
        "#import dataset\n",
        "cc_data=pd.read_csv(\"creditcard.csv\")\n",
        "cc_data.head()\n"
      ]
    },
    {
      "cell_type": "code",
      "execution_count": 6,
      "id": "5fd4923a",
      "metadata": {
        "colab": {
          "base_uri": "https://localhost:8080/"
        },
        "id": "5fd4923a",
        "outputId": "9fb75594-84f0-41fa-fb97-53e6ad88ee92"
      },
      "outputs": [
        {
          "data": {
            "text/plain": [
              "(284807, 31)"
            ]
          },
          "execution_count": 6,
          "metadata": {},
          "output_type": "execute_result"
        }
      ],
      "source": [
        "cc_data.shape"
      ]
    },
    {
      "cell_type": "code",
      "execution_count": 7,
      "id": "3415a411",
      "metadata": {
        "colab": {
          "base_uri": "https://localhost:8080/",
          "height": 349
        },
        "id": "3415a411",
        "outputId": "cb18d541-6abe-41c5-ce29-48dca240857e"
      },
      "outputs": [
        {
          "data": {
            "text/html": [
              "<div>\n",
              "<style scoped>\n",
              "    .dataframe tbody tr th:only-of-type {\n",
              "        vertical-align: middle;\n",
              "    }\n",
              "\n",
              "    .dataframe tbody tr th {\n",
              "        vertical-align: top;\n",
              "    }\n",
              "\n",
              "    .dataframe thead th {\n",
              "        text-align: right;\n",
              "    }\n",
              "</style>\n",
              "<table border=\"1\" class=\"dataframe\">\n",
              "  <thead>\n",
              "    <tr style=\"text-align: right;\">\n",
              "      <th></th>\n",
              "      <th>Time</th>\n",
              "      <th>V1</th>\n",
              "      <th>V2</th>\n",
              "      <th>V3</th>\n",
              "      <th>V4</th>\n",
              "      <th>V5</th>\n",
              "      <th>V6</th>\n",
              "      <th>V7</th>\n",
              "      <th>V8</th>\n",
              "      <th>V9</th>\n",
              "      <th>...</th>\n",
              "      <th>V21</th>\n",
              "      <th>V22</th>\n",
              "      <th>V23</th>\n",
              "      <th>V24</th>\n",
              "      <th>V25</th>\n",
              "      <th>V26</th>\n",
              "      <th>V27</th>\n",
              "      <th>V28</th>\n",
              "      <th>Amount</th>\n",
              "      <th>Class</th>\n",
              "    </tr>\n",
              "  </thead>\n",
              "  <tbody>\n",
              "    <tr>\n",
              "      <th>count</th>\n",
              "      <td>284807.000000</td>\n",
              "      <td>2.848070e+05</td>\n",
              "      <td>2.848070e+05</td>\n",
              "      <td>2.848070e+05</td>\n",
              "      <td>2.848070e+05</td>\n",
              "      <td>2.848070e+05</td>\n",
              "      <td>2.848070e+05</td>\n",
              "      <td>2.848070e+05</td>\n",
              "      <td>2.848070e+05</td>\n",
              "      <td>2.848070e+05</td>\n",
              "      <td>...</td>\n",
              "      <td>2.848070e+05</td>\n",
              "      <td>2.848070e+05</td>\n",
              "      <td>2.848070e+05</td>\n",
              "      <td>2.848070e+05</td>\n",
              "      <td>2.848070e+05</td>\n",
              "      <td>2.848070e+05</td>\n",
              "      <td>2.848070e+05</td>\n",
              "      <td>2.848070e+05</td>\n",
              "      <td>284807.000000</td>\n",
              "      <td>284807.000000</td>\n",
              "    </tr>\n",
              "    <tr>\n",
              "      <th>mean</th>\n",
              "      <td>94813.859575</td>\n",
              "      <td>1.168375e-15</td>\n",
              "      <td>3.416908e-16</td>\n",
              "      <td>-1.379537e-15</td>\n",
              "      <td>2.074095e-15</td>\n",
              "      <td>9.604066e-16</td>\n",
              "      <td>1.487313e-15</td>\n",
              "      <td>-5.556467e-16</td>\n",
              "      <td>1.213481e-16</td>\n",
              "      <td>-2.406331e-15</td>\n",
              "      <td>...</td>\n",
              "      <td>1.654067e-16</td>\n",
              "      <td>-3.568593e-16</td>\n",
              "      <td>2.578648e-16</td>\n",
              "      <td>4.473266e-15</td>\n",
              "      <td>5.340915e-16</td>\n",
              "      <td>1.683437e-15</td>\n",
              "      <td>-3.660091e-16</td>\n",
              "      <td>-1.227390e-16</td>\n",
              "      <td>88.349619</td>\n",
              "      <td>0.001727</td>\n",
              "    </tr>\n",
              "    <tr>\n",
              "      <th>std</th>\n",
              "      <td>47488.145955</td>\n",
              "      <td>1.958696e+00</td>\n",
              "      <td>1.651309e+00</td>\n",
              "      <td>1.516255e+00</td>\n",
              "      <td>1.415869e+00</td>\n",
              "      <td>1.380247e+00</td>\n",
              "      <td>1.332271e+00</td>\n",
              "      <td>1.237094e+00</td>\n",
              "      <td>1.194353e+00</td>\n",
              "      <td>1.098632e+00</td>\n",
              "      <td>...</td>\n",
              "      <td>7.345240e-01</td>\n",
              "      <td>7.257016e-01</td>\n",
              "      <td>6.244603e-01</td>\n",
              "      <td>6.056471e-01</td>\n",
              "      <td>5.212781e-01</td>\n",
              "      <td>4.822270e-01</td>\n",
              "      <td>4.036325e-01</td>\n",
              "      <td>3.300833e-01</td>\n",
              "      <td>250.120109</td>\n",
              "      <td>0.041527</td>\n",
              "    </tr>\n",
              "    <tr>\n",
              "      <th>min</th>\n",
              "      <td>0.000000</td>\n",
              "      <td>-5.640751e+01</td>\n",
              "      <td>-7.271573e+01</td>\n",
              "      <td>-4.832559e+01</td>\n",
              "      <td>-5.683171e+00</td>\n",
              "      <td>-1.137433e+02</td>\n",
              "      <td>-2.616051e+01</td>\n",
              "      <td>-4.355724e+01</td>\n",
              "      <td>-7.321672e+01</td>\n",
              "      <td>-1.343407e+01</td>\n",
              "      <td>...</td>\n",
              "      <td>-3.483038e+01</td>\n",
              "      <td>-1.093314e+01</td>\n",
              "      <td>-4.480774e+01</td>\n",
              "      <td>-2.836627e+00</td>\n",
              "      <td>-1.029540e+01</td>\n",
              "      <td>-2.604551e+00</td>\n",
              "      <td>-2.256568e+01</td>\n",
              "      <td>-1.543008e+01</td>\n",
              "      <td>0.000000</td>\n",
              "      <td>0.000000</td>\n",
              "    </tr>\n",
              "    <tr>\n",
              "      <th>25%</th>\n",
              "      <td>54201.500000</td>\n",
              "      <td>-9.203734e-01</td>\n",
              "      <td>-5.985499e-01</td>\n",
              "      <td>-8.903648e-01</td>\n",
              "      <td>-8.486401e-01</td>\n",
              "      <td>-6.915971e-01</td>\n",
              "      <td>-7.682956e-01</td>\n",
              "      <td>-5.540759e-01</td>\n",
              "      <td>-2.086297e-01</td>\n",
              "      <td>-6.430976e-01</td>\n",
              "      <td>...</td>\n",
              "      <td>-2.283949e-01</td>\n",
              "      <td>-5.423504e-01</td>\n",
              "      <td>-1.618463e-01</td>\n",
              "      <td>-3.545861e-01</td>\n",
              "      <td>-3.171451e-01</td>\n",
              "      <td>-3.269839e-01</td>\n",
              "      <td>-7.083953e-02</td>\n",
              "      <td>-5.295979e-02</td>\n",
              "      <td>5.600000</td>\n",
              "      <td>0.000000</td>\n",
              "    </tr>\n",
              "    <tr>\n",
              "      <th>50%</th>\n",
              "      <td>84692.000000</td>\n",
              "      <td>1.810880e-02</td>\n",
              "      <td>6.548556e-02</td>\n",
              "      <td>1.798463e-01</td>\n",
              "      <td>-1.984653e-02</td>\n",
              "      <td>-5.433583e-02</td>\n",
              "      <td>-2.741871e-01</td>\n",
              "      <td>4.010308e-02</td>\n",
              "      <td>2.235804e-02</td>\n",
              "      <td>-5.142873e-02</td>\n",
              "      <td>...</td>\n",
              "      <td>-2.945017e-02</td>\n",
              "      <td>6.781943e-03</td>\n",
              "      <td>-1.119293e-02</td>\n",
              "      <td>4.097606e-02</td>\n",
              "      <td>1.659350e-02</td>\n",
              "      <td>-5.213911e-02</td>\n",
              "      <td>1.342146e-03</td>\n",
              "      <td>1.124383e-02</td>\n",
              "      <td>22.000000</td>\n",
              "      <td>0.000000</td>\n",
              "    </tr>\n",
              "    <tr>\n",
              "      <th>75%</th>\n",
              "      <td>139320.500000</td>\n",
              "      <td>1.315642e+00</td>\n",
              "      <td>8.037239e-01</td>\n",
              "      <td>1.027196e+00</td>\n",
              "      <td>7.433413e-01</td>\n",
              "      <td>6.119264e-01</td>\n",
              "      <td>3.985649e-01</td>\n",
              "      <td>5.704361e-01</td>\n",
              "      <td>3.273459e-01</td>\n",
              "      <td>5.971390e-01</td>\n",
              "      <td>...</td>\n",
              "      <td>1.863772e-01</td>\n",
              "      <td>5.285536e-01</td>\n",
              "      <td>1.476421e-01</td>\n",
              "      <td>4.395266e-01</td>\n",
              "      <td>3.507156e-01</td>\n",
              "      <td>2.409522e-01</td>\n",
              "      <td>9.104512e-02</td>\n",
              "      <td>7.827995e-02</td>\n",
              "      <td>77.165000</td>\n",
              "      <td>0.000000</td>\n",
              "    </tr>\n",
              "    <tr>\n",
              "      <th>max</th>\n",
              "      <td>172792.000000</td>\n",
              "      <td>2.454930e+00</td>\n",
              "      <td>2.205773e+01</td>\n",
              "      <td>9.382558e+00</td>\n",
              "      <td>1.687534e+01</td>\n",
              "      <td>3.480167e+01</td>\n",
              "      <td>7.330163e+01</td>\n",
              "      <td>1.205895e+02</td>\n",
              "      <td>2.000721e+01</td>\n",
              "      <td>1.559499e+01</td>\n",
              "      <td>...</td>\n",
              "      <td>2.720284e+01</td>\n",
              "      <td>1.050309e+01</td>\n",
              "      <td>2.252841e+01</td>\n",
              "      <td>4.584549e+00</td>\n",
              "      <td>7.519589e+00</td>\n",
              "      <td>3.517346e+00</td>\n",
              "      <td>3.161220e+01</td>\n",
              "      <td>3.384781e+01</td>\n",
              "      <td>25691.160000</td>\n",
              "      <td>1.000000</td>\n",
              "    </tr>\n",
              "  </tbody>\n",
              "</table>\n",
              "<p>8 rows × 31 columns</p>\n",
              "</div>"
            ],
            "text/plain": [
              "                Time            V1            V2            V3            V4  \\\n",
              "count  284807.000000  2.848070e+05  2.848070e+05  2.848070e+05  2.848070e+05   \n",
              "mean    94813.859575  1.168375e-15  3.416908e-16 -1.379537e-15  2.074095e-15   \n",
              "std     47488.145955  1.958696e+00  1.651309e+00  1.516255e+00  1.415869e+00   \n",
              "min         0.000000 -5.640751e+01 -7.271573e+01 -4.832559e+01 -5.683171e+00   \n",
              "25%     54201.500000 -9.203734e-01 -5.985499e-01 -8.903648e-01 -8.486401e-01   \n",
              "50%     84692.000000  1.810880e-02  6.548556e-02  1.798463e-01 -1.984653e-02   \n",
              "75%    139320.500000  1.315642e+00  8.037239e-01  1.027196e+00  7.433413e-01   \n",
              "max    172792.000000  2.454930e+00  2.205773e+01  9.382558e+00  1.687534e+01   \n",
              "\n",
              "                 V5            V6            V7            V8            V9  \\\n",
              "count  2.848070e+05  2.848070e+05  2.848070e+05  2.848070e+05  2.848070e+05   \n",
              "mean   9.604066e-16  1.487313e-15 -5.556467e-16  1.213481e-16 -2.406331e-15   \n",
              "std    1.380247e+00  1.332271e+00  1.237094e+00  1.194353e+00  1.098632e+00   \n",
              "min   -1.137433e+02 -2.616051e+01 -4.355724e+01 -7.321672e+01 -1.343407e+01   \n",
              "25%   -6.915971e-01 -7.682956e-01 -5.540759e-01 -2.086297e-01 -6.430976e-01   \n",
              "50%   -5.433583e-02 -2.741871e-01  4.010308e-02  2.235804e-02 -5.142873e-02   \n",
              "75%    6.119264e-01  3.985649e-01  5.704361e-01  3.273459e-01  5.971390e-01   \n",
              "max    3.480167e+01  7.330163e+01  1.205895e+02  2.000721e+01  1.559499e+01   \n",
              "\n",
              "       ...           V21           V22           V23           V24  \\\n",
              "count  ...  2.848070e+05  2.848070e+05  2.848070e+05  2.848070e+05   \n",
              "mean   ...  1.654067e-16 -3.568593e-16  2.578648e-16  4.473266e-15   \n",
              "std    ...  7.345240e-01  7.257016e-01  6.244603e-01  6.056471e-01   \n",
              "min    ... -3.483038e+01 -1.093314e+01 -4.480774e+01 -2.836627e+00   \n",
              "25%    ... -2.283949e-01 -5.423504e-01 -1.618463e-01 -3.545861e-01   \n",
              "50%    ... -2.945017e-02  6.781943e-03 -1.119293e-02  4.097606e-02   \n",
              "75%    ...  1.863772e-01  5.285536e-01  1.476421e-01  4.395266e-01   \n",
              "max    ...  2.720284e+01  1.050309e+01  2.252841e+01  4.584549e+00   \n",
              "\n",
              "                V25           V26           V27           V28         Amount  \\\n",
              "count  2.848070e+05  2.848070e+05  2.848070e+05  2.848070e+05  284807.000000   \n",
              "mean   5.340915e-16  1.683437e-15 -3.660091e-16 -1.227390e-16      88.349619   \n",
              "std    5.212781e-01  4.822270e-01  4.036325e-01  3.300833e-01     250.120109   \n",
              "min   -1.029540e+01 -2.604551e+00 -2.256568e+01 -1.543008e+01       0.000000   \n",
              "25%   -3.171451e-01 -3.269839e-01 -7.083953e-02 -5.295979e-02       5.600000   \n",
              "50%    1.659350e-02 -5.213911e-02  1.342146e-03  1.124383e-02      22.000000   \n",
              "75%    3.507156e-01  2.409522e-01  9.104512e-02  7.827995e-02      77.165000   \n",
              "max    7.519589e+00  3.517346e+00  3.161220e+01  3.384781e+01   25691.160000   \n",
              "\n",
              "               Class  \n",
              "count  284807.000000  \n",
              "mean        0.001727  \n",
              "std         0.041527  \n",
              "min         0.000000  \n",
              "25%         0.000000  \n",
              "50%         0.000000  \n",
              "75%         0.000000  \n",
              "max         1.000000  \n",
              "\n",
              "[8 rows x 31 columns]"
            ]
          },
          "execution_count": 7,
          "metadata": {},
          "output_type": "execute_result"
        }
      ],
      "source": [
        "#Description of the dataset\n",
        "cc_data.describe()"
      ]
    },
    {
      "cell_type": "code",
      "execution_count": 8,
      "id": "6ea88227",
      "metadata": {
        "id": "6ea88227"
      },
      "outputs": [],
      "source": [
        "#dropping time column as it is irrelevant\n",
        "\n",
        "cc_data = cc_data.drop(['Time'], axis=1)"
      ]
    },
    {
      "cell_type": "code",
      "execution_count": 9,
      "id": "93b8a16c",
      "metadata": {
        "id": "93b8a16c"
      },
      "outputs": [],
      "source": [
        "#dropping duplicates\n",
        "cc_data.duplicated().sum()\n",
        "\n",
        "cc_data.drop_duplicates(keep=False,inplace=True)"
      ]
    },
    {
      "cell_type": "markdown",
      "id": "da88b034",
      "metadata": {
        "id": "da88b034"
      },
      "source": [
        "There are no missing values present in the credit card data set. Although there were some duplicate values which were removed."
      ]
    },
    {
      "cell_type": "code",
      "execution_count": 10,
      "id": "fd3d4eb6",
      "metadata": {
        "colab": {
          "base_uri": "https://localhost:8080/",
          "height": 472
        },
        "id": "fd3d4eb6",
        "outputId": "ccc3d0ba-121c-4a7f-83b5-e1886bea0bfa"
      },
      "outputs": [
        {
          "data": {
            "image/png": "[encoded data removed]",
            "text/plain": [
              "<Figure size 640x480 with 1 Axes>"
            ]
          },
          "metadata": {},
          "output_type": "display_data"
        }
      ],
      "source": [
        "#Density plot of the analysis\n",
        "sns.kdeplot(x='Amount', data=cc_data)\n",
        "plt.title('Fraud Credit Card Amount')\n",
        "plt.show()"
      ]
    },
    {
      "cell_type": "markdown",
      "id": "9810ac23",
      "metadata": {
        "id": "9810ac23"
      },
      "source": [
        "From the above KDE plot, we observe that the data is unimodal and positively skewed with maximum transaction is in the range of $\\$$ 0- $\\$ $500."
      ]
    },
    {
      "cell_type": "code",
      "execution_count": 11,
      "id": "50d9ea63",
      "metadata": {
        "colab": {
          "base_uri": "https://localhost:8080/",
          "height": 452
        },
        "id": "50d9ea63",
        "outputId": "f8087d78-b3da-4b9c-f4b6-1f6ffa26b510"
      },
      "outputs": [
        {
          "data": {
            "image/png": "[encoded data removed]",
            "text/plain": [
              "<Figure size 640x480 with 1 Axes>"
            ]
          },
          "metadata": {},
          "output_type": "display_data"
        }
      ],
      "source": [
        "# Apply a box transformation to the amount column using the numpy log function\n",
        "cc_data['amount_box'] = np.log(cc_data['Amount'] + 0.001)\n",
        "\n",
        "# Visualize the box-transformed amount column using a boxplot\n",
        "plt.boxplot(cc_data['amount_box'])\n",
        "plt.title(\"Box-Transformed Amount Distribution\")\n",
        "plt.ylabel(\"Box-Transformed Amount\")\n",
        "plt.show()"
      ]
    },
    {
      "cell_type": "markdown",
      "id": "5dd0c521",
      "metadata": {
        "id": "5dd0c521"
      },
      "source": [
        "As 'Amount' data was skewed, we have taken log-transformation and plotted the box-plot where we observe a lot of outliers because of which the data was scaled later before any modelling was done."
      ]
    },
    {
      "cell_type": "code",
      "execution_count": 12,
      "id": "CyeN38FrMSXK",
      "metadata": {
        "id": "CyeN38FrMSXK"
      },
      "outputs": [],
      "source": [
        "#dropping time column as it is irrelevant\n",
        "\n",
        "cc_data = cc_data.drop(['Amount'], axis=1)"
      ]
    },
    {
      "cell_type": "code",
      "execution_count": 13,
      "id": "b5890aa6",
      "metadata": {
        "colab": {
          "base_uri": "https://localhost:8080/",
          "height": 311
        },
        "id": "b5890aa6",
        "outputId": "3cc56dec-37c2-4758-a544-ab86105d7acf"
      },
      "outputs": [
        {
          "data": {
            "image/png": "[encoded data removed]",
            "text/plain": [
              "<Figure size 600x300 with 1 Axes>"
            ]
          },
          "metadata": {},
          "output_type": "display_data"
        }
      ],
      "source": [
        "class_1 = len(cc_data[cc_data['Class']==1])/len(cc_data)\n",
        "class_0 = len(cc_data[cc_data['Class']==0])/len(cc_data)\n",
        "\n",
        "labels=['No','Yes']\n",
        "colors=['#20B2AA', '#FFC300']\n",
        "\n",
        "plt.figure(figsize=(6,3))\n",
        "ax = sns.countplot(y='Class', data=cc_data, palette=colors)\n",
        "ax.bar_label(ax.containers[0])\n",
        "plt.title('Frauds detected in credit cards?', fontsize=16, fontweight='bold')\n",
        "plt.xticks([])\n",
        "plt.figtext(.7, .05, \"Fraud?\\nYes:{:.2f}%\\nNo:{:.2f}%\".format(class_1*100,class_0*100),\n",
        "            bbox ={'facecolor':'#ECECEC', 'alpha':0.8, 'pad':10}, fontsize=14, fontweight='bold')\n",
        "plt.yticks(cc_data['Class'].value_counts().index, labels, fontsize=14)\n",
        "plt.xlabel('')\n",
        "plt.ylabel('')\n",
        "plt.tight_layout()\n",
        "plt.show()"
      ]
    },
    {
      "cell_type": "markdown",
      "id": "4be84c63",
      "metadata": {
        "id": "4be84c63"
      },
      "source": [
        "Clearly the data is imbalanced, so we have to handle it first. We can try SMOTE library with resampling."
      ]
    },
    {
      "cell_type": "code",
      "execution_count": 14,
      "id": "TOAlAk1HAq04",
      "metadata": {
        "id": "TOAlAk1HAq04"
      },
      "outputs": [
        {
          "data": {
            "image/png": "[encoded data removed]",
            "text/plain": [
              "<Figure size 600x400 with 1 Axes>"
            ]
          },
          "metadata": {},
          "output_type": "display_data"
        }
      ],
      "source": [
        "from imblearn.over_sampling import SMOTE\n",
        "from sklearn.model_selection import train_test_split\n",
        "from sklearn.linear_model import LogisticRegression\n",
        "from sklearn.metrics import classification_report\n",
        "import matplotlib.pyplot as plt\n",
        "import seaborn as sns\n",
        "import pandas as pd\n",
        "import numpy as np\n",
        "\n",
        "np.random.seed(89989966)\n",
        "\n",
        "# Split the data into training and testing sets\n",
        "X = cc_data.drop('Class', axis=1)\n",
        "y = cc_data['Class']\n",
        "\n",
        "# Drop rows with NaN in target or features (optional: check why there are NaNs first)\n",
        "mask = ~y.isna()\n",
        "X = X[mask]\n",
        "y = y[mask]\n",
        "\n",
        "X_train, X_test, y_train, y_test = train_test_split(X, y, test_size=0.2, random_state=42)\n",
        "\n",
        "# Apply SMOTE to the training set\n",
        "sm = SMOTE(random_state=42)\n",
        "X_train_res, y_train_res = sm.fit_resample(X_train, y_train)\n",
        "\n",
        "# Create a DataFrame with the target class counts before and after resampling\n",
        "class_counts = pd.DataFrame({\n",
        "    'Class': ['Before Resampling', 'After Resampling'],\n",
        "    'Yes': [sum(y_train==1), sum(y_train_res==1)],\n",
        "    'No': [sum(y_train==0), sum(y_train_res==0)]\n",
        "})\n",
        "\n",
        "# Reshape the DataFrame to have a \"Class\" column and a \"Value\" column\n",
        "class_counts_melted = class_counts.melt(id_vars=['Class'], var_name='Target Class', value_name='Count')\n",
        "\n",
        "# Plot a countplot of the target class before and after resampling\n",
        "plt.figure(figsize=(6, 4))\n",
        "sns.set_style('whitegrid')\n",
        "sns.set_palette('pastel')\n",
        "ax = sns.barplot(x='Class', y='Count', hue='Target Class', data=class_counts_melted)\n",
        "plt.title('Target Class Distribution', fontsize=16, fontweight='bold')\n",
        "plt.xlabel('')\n",
        "plt.ylabel('Count')\n",
        "\n",
        "# Add text labels for the counts on the bars\n",
        "for bar_group in ax.containers:\n",
        "    for rect in bar_group:\n",
        "        height = rect.get_height()\n",
        "        ax.text(rect.get_x() + rect.get_width()/2., height, f\"{int(height)}\", ha='center', va='bottom')\n",
        "\n",
        "plt.tight_layout()\n",
        "plt.show()\n"
      ]
    },
    {
      "cell_type": "markdown",
      "id": "mBLEX4yKGHoA",
      "metadata": {
        "id": "mBLEX4yKGHoA"
      },
      "source": [
        "In this code block, the credit card transaction data is split into training and testing sets using the train_test_split function from scikit-learn. Then, SMOTE (Synthetic Minority Over-sampling Technique) is applied to the training set to balance the class distribution between the positive and negative classes. The SMOTE function is imported from the imblearn library for this purpose.\n",
        "\n",
        "After resampling, a DataFrame is created to show the count of positive and negative classes before and after resampling.\n",
        "\n",
        "Before resampling, the training set had 368 fraudulent transactions and 216,043 non-fraudulent transactions. After resampling, the training set had an equal number of fraudulent and non-fraudulent transactions, with 216,043 of each. The SMOTE algorithm was used to create synthetic instances of the minority class (fraudulent transactions) to balance the class distribution and prevent the model from being biased towards the majority class (non-fraudulent transactions)."
      ]
    },
    {
      "cell_type": "markdown",
      "id": "YVOg77YJGUdp",
      "metadata": {
        "id": "YVOg77YJGUdp"
      },
      "source": [
        "## **Logistic Regression model**"
      ]
    },
    {
      "cell_type": "code",
      "execution_count": 15,
      "id": "717f795d",
      "metadata": {
        "colab": {
          "base_uri": "https://localhost:8080/"
        },
        "id": "717f795d",
        "outputId": "86b1950a-ce24-485a-ba9c-9df4ad76b3b1"
      },
      "outputs": [
        {
          "name": "stdout",
          "output_type": "stream",
          "text": [
            "              precision    recall  f1-score   support\n",
            "\n",
            "           0       1.00      0.98      0.99     54011\n",
            "           1       0.06      0.85      0.12        92\n",
            "\n",
            "    accuracy                           0.98     54103\n",
            "   macro avg       0.53      0.91      0.55     54103\n",
            "weighted avg       1.00      0.98      0.99     54103\n",
            "\n"
          ]
        }
      ],
      "source": [
        "# Train a logistic regression model on the oversampled training set\n",
        "lr = LogisticRegression(random_state=42)\n",
        "lr.fit(X_train_res, y_train_res)\n",
        "\n",
        "# Evaluate the model on the testing set\n",
        "y_pred = lr.predict(X_test)\n",
        "print(classification_report(y_test, y_pred))"
      ]
    },
    {
      "cell_type": "markdown",
      "id": "X2Exki1oFFML",
      "metadata": {
        "id": "X2Exki1oFFML"
      },
      "source": [
        "The model has a high accuracy in predicting the majority class 0, but a low accuracy in predicting the minority class 1. The precision for class 1 is low, indicating that a significant portion of the positive predictions are actually false positives. However, the recall for class 1 is high, which means that the model is able to identify a majority of the actual positive cases. The F1-score for class 1 is also low, indicating that the model's performance on class 1 is poor. Overall, the model needs improvement in correctly identifying the minority class."
      ]
    },
    {
      "cell_type": "code",
      "execution_count": 16,
      "id": "SIZi-l2g4A7F",
      "metadata": {
        "colab": {
          "base_uri": "https://localhost:8080/",
          "height": 472
        },
        "id": "SIZi-l2g4A7F",
        "outputId": "756709d9-50a4-4505-bec5-5ecbd54eceec"
      },
      "outputs": [
        {
          "data": {
            "image/png": "[encoded data removed]",
            "text/plain": [
              "<Figure size 640x480 with 1 Axes>"
            ]
          },
          "metadata": {},
          "output_type": "display_data"
        }
      ],
      "source": [
        "from sklearn.metrics import classification_report, confusion_matrix\n",
        "\n",
        "import seaborn as sns\n",
        "\n",
        "# Generate the confusion matrix\n",
        "cm = confusion_matrix(y_test, y_pred)\n",
        "\n",
        "# Plot the confusion matrix as a heatmap\n",
        "sns.heatmap(cm, annot=True, cmap=\"Blues\", fmt=\"d\", cbar=False)\n",
        "\n",
        "# Set the axis labels and title\n",
        "plt.xlabel(\"Predicted Label\")\n",
        "plt.ylabel(\"True Label\")\n",
        "plt.title(\"Confusion Matrix\")\n",
        "\n",
        "# Show the plot\n",
        "plt.show()"
      ]
    },
    {
      "cell_type": "markdown",
      "id": "K-qVHWFBKMNC",
      "metadata": {
        "id": "K-qVHWFBKMNC"
      },
      "source": [
        "This appears to be the performance metrics for a binary classification model, where class 0 has a much larger number of instances than class 1.\n",
        "\n",
        "From the precision, recall, and f1-score values, we can see that the model is performing well in terms of correctly identifying class 0 instances, as evidenced by a precision of 1.00 and a recall of 0.98. However, the model's performance on class 1 is not as strong, with a precision of 0.06 and a recall of 0.85, resulting in a low f1-score of 0.12.\n",
        "\n",
        "The overall accuracy of the model is 0.98, which can be misleading in this case due to the class imbalance. Therefore, it is crucial to examine precision, recall, and f1-score, which provide a more accurate assessment of the model's performance, especially when dealing with imbalanced classes.\n",
        "\n",
        "The macro average of precision, recall, and f1-score is higher than the weighted average, which suggests that the model is performing better on class 1, despite having a smaller number of instances. This implies that the model may be effective in identifying class 1 instances, although it is not as precise in doing so."
      ]
    },
    {
      "cell_type": "code",
      "execution_count": 17,
      "id": "BvuWF5oLKa9Y",
      "metadata": {
        "colab": {
          "base_uri": "https://localhost:8080/",
          "height": 255
        },
        "id": "BvuWF5oLKa9Y",
        "outputId": "d10ae6d2-d92b-4879-a1f1-984a1ae6e446"
      },
      "outputs": [
        {
          "data": {
            "text/html": [
              "<div>\n",
              "<style scoped>\n",
              "    .dataframe tbody tr th:only-of-type {\n",
              "        vertical-align: middle;\n",
              "    }\n",
              "\n",
              "    .dataframe tbody tr th {\n",
              "        vertical-align: top;\n",
              "    }\n",
              "\n",
              "    .dataframe thead th {\n",
              "        text-align: right;\n",
              "    }\n",
              "</style>\n",
              "<table border=\"1\" class=\"dataframe\">\n",
              "  <thead>\n",
              "    <tr style=\"text-align: right;\">\n",
              "      <th></th>\n",
              "      <th>V1</th>\n",
              "      <th>V2</th>\n",
              "      <th>V3</th>\n",
              "      <th>V4</th>\n",
              "      <th>V5</th>\n",
              "      <th>V6</th>\n",
              "      <th>V7</th>\n",
              "      <th>V8</th>\n",
              "      <th>V9</th>\n",
              "      <th>V10</th>\n",
              "      <th>...</th>\n",
              "      <th>V20</th>\n",
              "      <th>V21</th>\n",
              "      <th>V22</th>\n",
              "      <th>V23</th>\n",
              "      <th>V24</th>\n",
              "      <th>V25</th>\n",
              "      <th>V26</th>\n",
              "      <th>V27</th>\n",
              "      <th>V28</th>\n",
              "      <th>amount_box</th>\n",
              "    </tr>\n",
              "  </thead>\n",
              "  <tbody>\n",
              "    <tr>\n",
              "      <th>0</th>\n",
              "      <td>0.141215</td>\n",
              "      <td>-0.126578</td>\n",
              "      <td>0.673018</td>\n",
              "      <td>-0.886327</td>\n",
              "      <td>0.371400</td>\n",
              "      <td>0.377087</td>\n",
              "      <td>0.589795</td>\n",
              "      <td>-0.136956</td>\n",
              "      <td>0.608271</td>\n",
              "      <td>0.493581</td>\n",
              "      <td>...</td>\n",
              "      <td>-0.569755</td>\n",
              "      <td>-0.190773</td>\n",
              "      <td>-0.493534</td>\n",
              "      <td>-0.218456</td>\n",
              "      <td>-0.641730</td>\n",
              "      <td>-0.016387</td>\n",
              "      <td>0.068300</td>\n",
              "      <td>-1.049156</td>\n",
              "      <td>-0.009962</td>\n",
              "      <td>0.449168</td>\n",
              "    </tr>\n",
              "    <tr>\n",
              "      <th>1</th>\n",
              "      <td>0.828939</td>\n",
              "      <td>-0.787034</td>\n",
              "      <td>0.117541</td>\n",
              "      <td>-1.354222</td>\n",
              "      <td>0.815969</td>\n",
              "      <td>2.472715</td>\n",
              "      <td>0.276142</td>\n",
              "      <td>0.015087</td>\n",
              "      <td>0.308588</td>\n",
              "      <td>0.847883</td>\n",
              "      <td>...</td>\n",
              "      <td>-0.202259</td>\n",
              "      <td>0.059481</td>\n",
              "      <td>1.005744</td>\n",
              "      <td>0.171045</td>\n",
              "      <td>1.497863</td>\n",
              "      <td>0.123198</td>\n",
              "      <td>-0.087007</td>\n",
              "      <td>-0.186093</td>\n",
              "      <td>-0.304868</td>\n",
              "      <td>-1.404838</td>\n",
              "    </tr>\n",
              "    <tr>\n",
              "      <th>2</th>\n",
              "      <td>0.759331</td>\n",
              "      <td>-0.669362</td>\n",
              "      <td>0.387134</td>\n",
              "      <td>-0.554647</td>\n",
              "      <td>0.285986</td>\n",
              "      <td>0.188278</td>\n",
              "      <td>0.440853</td>\n",
              "      <td>-0.184535</td>\n",
              "      <td>0.890473</td>\n",
              "      <td>0.700973</td>\n",
              "      <td>...</td>\n",
              "      <td>-0.341197</td>\n",
              "      <td>-0.129239</td>\n",
              "      <td>-0.059138</td>\n",
              "      <td>0.171759</td>\n",
              "      <td>-0.528155</td>\n",
              "      <td>-0.473040</td>\n",
              "      <td>0.451697</td>\n",
              "      <td>-0.256103</td>\n",
              "      <td>-0.270192</td>\n",
              "      <td>0.738928</td>\n",
              "    </tr>\n",
              "    <tr>\n",
              "      <th>3</th>\n",
              "      <td>0.790201</td>\n",
              "      <td>-0.789554</td>\n",
              "      <td>0.282627</td>\n",
              "      <td>-0.888826</td>\n",
              "      <td>0.462800</td>\n",
              "      <td>1.416017</td>\n",
              "      <td>0.328369</td>\n",
              "      <td>-0.053465</td>\n",
              "      <td>0.563905</td>\n",
              "      <td>0.813805</td>\n",
              "      <td>...</td>\n",
              "      <td>-1.073609</td>\n",
              "      <td>-0.218124</td>\n",
              "      <td>0.487383</td>\n",
              "      <td>0.181703</td>\n",
              "      <td>-1.299880</td>\n",
              "      <td>0.014217</td>\n",
              "      <td>-0.003188</td>\n",
              "      <td>-0.110892</td>\n",
              "      <td>-0.329787</td>\n",
              "      <td>-1.070807</td>\n",
              "    </tr>\n",
              "    <tr>\n",
              "      <th>4</th>\n",
              "      <td>0.164213</td>\n",
              "      <td>-0.479510</td>\n",
              "      <td>0.810810</td>\n",
              "      <td>-1.255835</td>\n",
              "      <td>0.042626</td>\n",
              "      <td>0.248839</td>\n",
              "      <td>0.435317</td>\n",
              "      <td>-0.065161</td>\n",
              "      <td>-0.011048</td>\n",
              "      <td>0.647654</td>\n",
              "      <td>...</td>\n",
              "      <td>-0.443471</td>\n",
              "      <td>0.016233</td>\n",
              "      <td>0.568435</td>\n",
              "      <td>0.121411</td>\n",
              "      <td>0.722863</td>\n",
              "      <td>-0.217398</td>\n",
              "      <td>-1.113845</td>\n",
              "      <td>-0.421489</td>\n",
              "      <td>-0.165729</td>\n",
              "      <td>0.788929</td>\n",
              "    </tr>\n",
              "  </tbody>\n",
              "</table>\n",
              "<p>5 rows × 29 columns</p>\n",
              "</div>"
            ],
            "text/plain": [
              "         V1        V2        V3        V4        V5        V6        V7  \\\n",
              "0  0.141215 -0.126578  0.673018 -0.886327  0.371400  0.377087  0.589795   \n",
              "1  0.828939 -0.787034  0.117541 -1.354222  0.815969  2.472715  0.276142   \n",
              "2  0.759331 -0.669362  0.387134 -0.554647  0.285986  0.188278  0.440853   \n",
              "3  0.790201 -0.789554  0.282627 -0.888826  0.462800  1.416017  0.328369   \n",
              "4  0.164213 -0.479510  0.810810 -1.255835  0.042626  0.248839  0.435317   \n",
              "\n",
              "         V8        V9       V10  ...       V20       V21       V22       V23  \\\n",
              "0 -0.136956  0.608271  0.493581  ... -0.569755 -0.190773 -0.493534 -0.218456   \n",
              "1  0.015087  0.308588  0.847883  ... -0.202259  0.059481  1.005744  0.171045   \n",
              "2 -0.184535  0.890473  0.700973  ... -0.341197 -0.129239 -0.059138  0.171759   \n",
              "3 -0.053465  0.563905  0.813805  ... -1.073609 -0.218124  0.487383  0.181703   \n",
              "4 -0.065161 -0.011048  0.647654  ... -0.443471  0.016233  0.568435  0.121411   \n",
              "\n",
              "        V24       V25       V26       V27       V28  amount_box  \n",
              "0 -0.641730 -0.016387  0.068300 -1.049156 -0.009962    0.449168  \n",
              "1  1.497863  0.123198 -0.087007 -0.186093 -0.304868   -1.404838  \n",
              "2 -0.528155 -0.473040  0.451697 -0.256103 -0.270192    0.738928  \n",
              "3 -1.299880  0.014217 -0.003188 -0.110892 -0.329787   -1.070807  \n",
              "4  0.722863 -0.217398 -1.113845 -0.421489 -0.165729    0.788929  \n",
              "\n",
              "[5 rows x 29 columns]"
            ]
          },
          "execution_count": 17,
          "metadata": {},
          "output_type": "execute_result"
        }
      ],
      "source": [
        "from sklearn.preprocessing import StandardScaler\n",
        "import pandas as pd\n",
        "scaler = StandardScaler()\n",
        "scaled_features = scaler.fit_transform(X_train_res.values)\n",
        "scaled_df = pd.DataFrame(scaled_features, index=X_train_res.index, columns=X_train_res.columns)\n",
        "scaled_df.head()\n"
      ]
    },
    {
      "cell_type": "markdown",
      "id": "oMtd8HFhIZZy",
      "metadata": {
        "id": "oMtd8HFhIZZy"
      },
      "source": [
        "### **PCA Dimentionality Reduction and Standard Scaling**"
      ]
    },
    {
      "cell_type": "markdown",
      "id": "LEg-z7ihH-RF",
      "metadata": {
        "id": "LEg-z7ihH-RF"
      },
      "source": [
        "PCA can help to reduce the noise in the data and eliminate redundancy in the features. This can lead to better model performance and faster computation times. StandardScaler is often used as a preprocessing step before applying PCA because PCA is sensitive to the scale of the data."
      ]
    },
    {
      "cell_type": "code",
      "execution_count": 18,
      "id": "RJn85fk7NJSB",
      "metadata": {
        "colab": {
          "base_uri": "https://localhost:8080/"
        },
        "id": "RJn85fk7NJSB",
        "outputId": "95d141db-b4f4-440d-d3e6-f69541872f8d"
      },
      "outputs": [
        {
          "data": {
            "text/plain": [
              "array([0.40618094, 0.11708339, 0.06871195, 0.06276819, 0.04009132,\n",
              "       0.03718267, 0.03290816, 0.03147615])"
            ]
          },
          "execution_count": 18,
          "metadata": {},
          "output_type": "execute_result"
        }
      ],
      "source": [
        "from sklearn.decomposition import PCA\n",
        "\n",
        "# Apply PCA to the oversampled training set\n",
        "pca = PCA(n_components=8, random_state=0)\n",
        "df_pca = pd.DataFrame(pca.fit_transform(scaled_df), index=scaled_df.index)\n",
        "df_restored = pd.DataFrame(pca.inverse_transform(df_pca),index = df_pca.index)\n",
        "\n",
        "pca.explained_variance_ratio_"
      ]
    },
    {
      "cell_type": "code",
      "execution_count": 19,
      "id": "HMAeDxvRtJIw",
      "metadata": {
        "colab": {
          "base_uri": "https://localhost:8080/",
          "height": 472
        },
        "id": "HMAeDxvRtJIw",
        "outputId": "a60062c1-4618-424d-9f41-4f8908390d11"
      },
      "outputs": [
        {
          "data": {
            "image/png": "[encoded data removed]",
            "text/plain": [
              "<Figure size 640x480 with 1 Axes>"
            ]
          },
          "metadata": {},
          "output_type": "display_data"
        }
      ],
      "source": [
        "from sklearn.decomposition import PCA\n",
        "import numpy as np\n",
        "\n",
        "import matplotlib.pyplot as plt\n",
        "\n",
        "# Calculate the cumulative sum of the explained variance ratio\n",
        "# cumulative_variance_ratio = np.cumsum(pca.explained_variance_ratio_)\n",
        "\n",
        "# Plot the scree plot\n",
        "plt.plot(np.arange(1, len(pca.explained_variance_ratio_)+1), pca.explained_variance_ratio_*100, 'bo-', linewidth=2)\n",
        "plt.xlabel('Principal Component')\n",
        "plt.ylabel('Percentage of Variance Explained')\n",
        "plt.title('Scree Plot')\n",
        "plt.show()\n",
        "\n",
        "\n"
      ]
    },
    {
      "cell_type": "code",
      "execution_count": 20,
      "id": "bdSksYnRPdlR",
      "metadata": {
        "colab": {
          "base_uri": "https://localhost:8080/"
        },
        "id": "bdSksYnRPdlR",
        "outputId": "7122865c-3edd-431a-d5d7-7fc6000d807f"
      },
      "outputs": [
        {
          "data": {
            "text/plain": [
              "array([0.40618094, 0.52326434, 0.59197628, 0.65474447, 0.69483579,\n",
              "       0.73201846, 0.76492662, 0.79640276])"
            ]
          },
          "execution_count": 20,
          "metadata": {},
          "output_type": "execute_result"
        }
      ],
      "source": [
        "import numpy as np\n",
        "cumulative_variance_ratio = np.cumsum(pca.explained_variance_ratio_)\n",
        "\n",
        "cumulative_variance_ratio"
      ]
    },
    {
      "cell_type": "markdown",
      "id": "db0353d7",
      "metadata": {
        "id": "db0353d7"
      },
      "source": [
        "## **Artificial Neural Network**\n",
        "\n",
        "To apply a neural network (NN) to the preprocessed data, you can use a deep learning library such as TensorFlow or Keras."
      ]
    },
    {
      "cell_type": "code",
      "execution_count": 21,
      "id": "4defbd55",
      "metadata": {
        "id": "4defbd55"
      },
      "outputs": [],
      "source": [
        "import tensorflow as tf\n",
        "from tensorflow import keras\n",
        "from keras.models import Sequential\n",
        "from keras.layers import Dense\n",
        "from keras.layers import Dropout\n",
        "\n",
        "n_features = X_train_res.shape[1]\n",
        "\n",
        "model = keras.Sequential([\n",
        "    keras.layers.Dense(units=20,kernel_initializer='he_normal',activation='relu',input_dim=29),\n",
        "    keras.layers.Dense(units=15,kernel_initializer='he_normal',activation='relu'),\n",
        "    keras.layers.Dense(units=1,kernel_initializer='he_normal',activation='sigmoid')\n",
        "])\n"
      ]
    },
    {
      "cell_type": "code",
      "execution_count": 22,
      "id": "LoWoP4riBGpN",
      "metadata": {
        "colab": {
          "base_uri": "https://localhost:8080/"
        },
        "id": "LoWoP4riBGpN",
        "outputId": "70de32e8-9611-4d38-b7f6-bd506a3cbbd8"
      },
      "outputs": [
        {
          "data": {
            "text/plain": [
              "29"
            ]
          },
          "execution_count": 22,
          "metadata": {},
          "output_type": "execute_result"
        }
      ],
      "source": [
        "X_train_res.shape[1]"
      ]
    },
    {
      "cell_type": "markdown",
      "id": "DAANUmJFEcC2",
      "metadata": {
        "id": "DAANUmJFEcC2"
      },
      "source": [
        "This is a simple neural network model with three layers. The first layer (Dense) has 20 units, uses the ReLU activation function, and takes an input of shape (30,) corresponding to the number of features in the input data. The second layer also uses the ReLU activation function and has 15 units. Finally, the output layer has a single unit and uses the sigmoid activation function, which is common for binary classification problems.\n",
        "\n",
        "This model is suitable for a binary classification task, where the goal is to predict the probability of an instance belonging to one of two classes. The model takes in a 30-dimensional feature vector as input and outputs a single probability value indicating the likelihood of the input belonging to the positive class (i.e., class 1). The weights of the model are initialized using the He normal initialization method, which is a commonly used weight initialization technique in deep learning."
      ]
    },
    {
      "cell_type": "markdown",
      "id": "6b76b0d2",
      "metadata": {
        "id": "6b76b0d2"
      },
      "source": [
        "This code defines a sequential model with three dense layers. The first two layers have a ReLU activation function, and the last layer has a sigmoid activation function. The input shape of the first layer should match the number of features in the preprocessed data."
      ]
    },
    {
      "cell_type": "code",
      "execution_count": 23,
      "id": "3215c52d",
      "metadata": {
        "colab": {
          "base_uri": "https://localhost:8080/"
        },
        "id": "3215c52d",
        "outputId": "43f06420-1f4a-43c7-c527-3d322c53915a"
      },
      "outputs": [
        {
          "name": "stdout",
          "output_type": "stream",
          "text": [
            "Epoch 1/5\n",
            "\u001b[1m10803/10803\u001b[0m \u001b[32m━━━━━━━━━━━━━━━━━━━━\u001b[0m\u001b[37m\u001b[0m \u001b[1m13s\u001b[0m 1ms/step - accuracy: 0.9662 - loss: 0.0912 - val_accuracy: 0.9746 - val_loss: 0.0614\n",
            "Epoch 2/5\n",
            "\u001b[1m10803/10803\u001b[0m \u001b[32m━━━━━━━━━━━━━━━━━━━━\u001b[0m\u001b[37m\u001b[0m \u001b[1m11s\u001b[0m 1ms/step - accuracy: 0.9893 - loss: 0.0327 - val_accuracy: 0.9967 - val_loss: 0.0251\n",
            "Epoch 3/5\n",
            "\u001b[1m10803/10803\u001b[0m \u001b[32m━━━━━━━━━━━━━━━━━━━━\u001b[0m\u001b[37m\u001b[0m \u001b[1m12s\u001b[0m 1ms/step - accuracy: 0.9946 - loss: 0.0206 - val_accuracy: 0.9992 - val_loss: 0.0203\n",
            "Epoch 4/5\n",
            "\u001b[1m10803/10803\u001b[0m \u001b[32m━━━━━━━━━━━━━━━━━━━━\u001b[0m\u001b[37m\u001b[0m \u001b[1m12s\u001b[0m 1ms/step - accuracy: 0.9964 - loss: 0.0154 - val_accuracy: 0.9998 - val_loss: 0.0117\n",
            "Epoch 5/5\n",
            "\u001b[1m10803/10803\u001b[0m \u001b[32m━━━━━━━━━━━━━━━━━━━━\u001b[0m\u001b[37m\u001b[0m \u001b[1m13s\u001b[0m 1ms/step - accuracy: 0.9971 - loss: 0.0125 - val_accuracy: 0.9998 - val_loss: 0.0107\n"
          ]
        }
      ],
      "source": [
        "#Compile\n",
        "\n",
        "model.compile(optimizer='Adamax',loss='binary_crossentropy',metrics=['accuracy'])\n",
        "\n",
        "# Train the ANN\n",
        "history = model.fit(X_train_res, y_train_res, batch_size = 32, epochs = 5,validation_split=0.2)\n"
      ]
    },
    {
      "cell_type": "markdown",
      "id": "5b2891ad",
      "metadata": {
        "id": "5b2891ad"
      },
      "source": [
        "This code compiles the model using the Adam optimizer, binary cross-entropy loss, and accuracy metric."
      ]
    },
    {
      "cell_type": "markdown",
      "id": "4d2bd50e",
      "metadata": {
        "id": "4d2bd50e"
      },
      "source": [
        "This code trains the model on the preprocessed training data for 5 epochs, with a batch size of 32. It also uses the preprocessed test data for validation during training."
      ]
    },
    {
      "cell_type": "code",
      "execution_count": 24,
      "id": "qfdg-T3LV26U",
      "metadata": {
        "colab": {
          "base_uri": "https://localhost:8080/"
        },
        "id": "qfdg-T3LV26U",
        "outputId": "df6d9f2b-15fd-4be1-bf21-1949e1b7d1b5"
      },
      "outputs": [
        {
          "name": "stdout",
          "output_type": "stream",
          "text": [
            "\u001b[1m1691/1691\u001b[0m \u001b[32m━━━━━━━━━━━━━━━━━━━━\u001b[0m\u001b[37m\u001b[0m \u001b[1m1s\u001b[0m 572us/step\n",
            "Precision:  [0.99964697 0.25795053]\n",
            "Recall:  [0.9961119  0.79347826]\n",
            "F1-score:  [0.99787631 0.38933333]\n"
          ]
        }
      ],
      "source": [
        "from sklearn.metrics import precision_recall_fscore_support\n",
        "\n",
        "# Get predictions from the NN model\n",
        "y_pred = model.predict(X_test)\n",
        "\n",
        "# Convert predicted probabilities to binary labels\n",
        "y_pred_binary = (y_pred > 0.5).astype(int)\n",
        "\n",
        "# Calculate precision, recall, and F1-score\n",
        "precision, recall, f1_score, _ = precision_recall_fscore_support(y_test, y_pred_binary)\n",
        "\n",
        "# Print the results\n",
        "print(\"Precision: \", precision)\n",
        "print(\"Recall: \", recall)\n",
        "print(\"F1-score: \", f1_score)\n"
      ]
    },
    {
      "cell_type": "code",
      "execution_count": 25,
      "id": "R6MagJwGCo60",
      "metadata": {
        "colab": {
          "base_uri": "https://localhost:8080/"
        },
        "id": "R6MagJwGCo60",
        "outputId": "5b088b63-9a56-4641-c638-18aab478e822"
      },
      "outputs": [
        {
          "name": "stdout",
          "output_type": "stream",
          "text": [
            "\u001b[1m1691/1691\u001b[0m \u001b[32m━━━━━━━━━━━━━━━━━━━━\u001b[0m\u001b[37m\u001b[0m \u001b[1m1s\u001b[0m 558us/step\n",
            "              precision    recall  f1-score   support\n",
            "\n",
            "           0       1.00      1.00      1.00     54011\n",
            "           1       0.26      0.79      0.39        92\n",
            "\n",
            "    accuracy                           1.00     54103\n",
            "   macro avg       0.63      0.89      0.69     54103\n",
            "weighted avg       1.00      1.00      1.00     54103\n",
            "\n"
          ]
        }
      ],
      "source": [
        "y_pred = model.predict(X_test)\n",
        "y_pred = (y_pred > 0.5)\n",
        "print(classification_report(y_test, y_pred))"
      ]
    },
    {
      "cell_type": "markdown",
      "id": "pcyDHqiYExk9",
      "metadata": {
        "id": "pcyDHqiYExk9"
      },
      "source": [
        "These classification metrics indicate that the model has achieved perfect accuracy in predicting the majority class (0), but relatively low recall and F1-score for the minority class (1). Specifically, the model correctly classified all instances of the majority class, but only 73 out of 92 instances of the minority class were correctly classified (resulting in a recall of 0.79). The F1-score of the minority class is also relatively low at 0.36, indicating that the model is not performing well in terms of precision and recall for this class.\n",
        "\n",
        "This suggests that the model may be overfitting to the majority class and failing to learn the patterns in the minority class. Additional steps such as adjusting the class weights or oversampling the minority class may improve the model's performance on the minority class."
      ]
    },
    {
      "cell_type": "markdown",
      "id": "uIgWwu8OkSkL",
      "metadata": {
        "id": "uIgWwu8OkSkL"
      },
      "source": [
        "### **Multi-Layer Perceptron**"
      ]
    },
    {
      "cell_type": "code",
      "execution_count": 26,
      "id": "orCOx-nWa-gl",
      "metadata": {
        "colab": {
          "base_uri": "https://localhost:8080/",
          "height": 97
        },
        "id": "orCOx-nWa-gl",
        "outputId": "e7b8d213-067b-4ed5-b639-593546140f43"
      },
      "outputs": [
        {
          "data": {
            "text/html": [
              "<style>#sk-container-id-1 {\n",
              "  /* Definition of color scheme common for light and dark mode */\n",
              "  --sklearn-color-text: #000;\n",
              "  --sklearn-color-text-muted: #666;\n",
              "  --sklearn-color-line: gray;\n",
              "  /* Definition of color scheme for unfitted estimators */\n",
              "  --sklearn-color-unfitted-level-0: #fff5e6;\n",
              "  --sklearn-color-unfitted-level-1: #f6e4d2;\n",
              "  --sklearn-color-unfitted-level-2: #ffe0b3;\n",
              "  --sklearn-color-unfitted-level-3: chocolate;\n",
              "  /* Definition of color scheme for fitted estimators */\n",
              "  --sklearn-color-fitted-level-0: #f0f8ff;\n",
              "  --sklearn-color-fitted-level-1: #d4ebff;\n",
              "  --sklearn-color-fitted-level-2: #b3dbfd;\n",
              "  --sklearn-color-fitted-level-3: cornflowerblue;\n",
              "\n",
              "  /* Specific color for light theme */\n",
              "  --sklearn-color-text-on-default-background: var(--sg-text-color, var(--theme-code-foreground, var(--jp-content-font-color1, black)));\n",
              "  --sklearn-color-background: var(--sg-background-color, var(--theme-background, var(--jp-layout-color0, white)));\n",
              "  --sklearn-color-border-box: var(--sg-text-color, var(--theme-code-foreground, var(--jp-content-font-color1, black)));\n",
              "  --sklearn-color-icon: #696969;\n",
              "\n",
              "  @media (prefers-color-scheme: dark) {\n",
              "    /* Redefinition of color scheme for dark theme */\n",
              "    --sklearn-color-text-on-default-background: var(--sg-text-color, var(--theme-code-foreground, var(--jp-content-font-color1, white)));\n",
              "    --sklearn-color-background: var(--sg-background-color, var(--theme-background, var(--jp-layout-color0, #111)));\n",
              "    --sklearn-color-border-box: var(--sg-text-color, var(--theme-code-foreground, var(--jp-content-font-color1, white)));\n",
              "    --sklearn-color-icon: #878787;\n",
              "  }\n",
              "}\n",
              "\n",
              "#sk-container-id-1 {\n",
              "  color: var(--sklearn-color-text);\n",
              "}\n",
              "\n",
              "#sk-container-id-1 pre {\n",
              "  padding: 0;\n",
              "}\n",
              "\n",
              "#sk-container-id-1 input.sk-hidden--visually {\n",
              "  border: 0;\n",
              "  clip: rect(1px 1px 1px 1px);\n",
              "  clip: rect(1px, 1px, 1px, 1px);\n",
              "  height: 1px;\n",
              "  margin: -1px;\n",
              "  overflow: hidden;\n",
              "  padding: 0;\n",
              "  position: absolute;\n",
              "  width: 1px;\n",
              "}\n",
              "\n",
              "#sk-container-id-1 div.sk-dashed-wrapped {\n",
              "  border: 1px dashed var(--sklearn-color-line);\n",
              "  margin: 0 0.4em 0.5em 0.4em;\n",
              "  box-sizing: border-box;\n",
              "  padding-bottom: 0.4em;\n",
              "  background-color: var(--sklearn-color-background);\n",
              "}\n",
              "\n",
              "#sk-container-id-1 div.sk-container {\n",
              "  /* jupyter's `normalize.less` sets `[hidden] { display: none; }`\n",
              "     but bootstrap.min.css set `[hidden] { display: none !important; }`\n",
              "     so we also need the `!important` here to be able to override the\n",
              "     default hidden behavior on the sphinx rendered scikit-learn.org.\n",
              "     See: https://github.com/scikit-learn/scikit-learn/issues/21755 */\n",
              "  display: inline-block !important;\n",
              "  position: relative;\n",
              "}\n",
              "\n",
              "#sk-container-id-1 div.sk-text-repr-fallback {\n",
              "  display: none;\n",
              "}\n",
              "\n",
              "div.sk-parallel-item,\n",
              "div.sk-serial,\n",
              "div.sk-item {\n",
              "  /* draw centered vertical line to link estimators */\n",
              "  background-image: linear-gradient(var(--sklearn-color-text-on-default-background), var(--sklearn-color-text-on-default-background));\n",
              "  background-size: 2px 100%;\n",
              "  background-repeat: no-repeat;\n",
              "  background-position: center center;\n",
              "}\n",
              "\n",
              "/* Parallel-specific style estimator block */\n",
              "\n",
              "#sk-container-id-1 div.sk-parallel-item::after {\n",
              "  content: \"\";\n",
              "  width: 100%;\n",
              "  border-bottom: 2px solid var(--sklearn-color-text-on-default-background);\n",
              "  flex-grow: 1;\n",
              "}\n",
              "\n",
              "#sk-container-id-1 div.sk-parallel {\n",
              "  display: flex;\n",
              "  align-items: stretch;\n",
              "  justify-content: center;\n",
              "  background-color: var(--sklearn-color-background);\n",
              "  position: relative;\n",
              "}\n",
              "\n",
              "#sk-container-id-1 div.sk-parallel-item {\n",
              "  display: flex;\n",
              "  flex-direction: column;\n",
              "}\n",
              "\n",
              "#sk-container-id-1 div.sk-parallel-item:first-child::after {\n",
              "  align-self: flex-end;\n",
              "  width: 50%;\n",
              "}\n",
              "\n",
              "#sk-container-id-1 div.sk-parallel-item:last-child::after {\n",
              "  align-self: flex-start;\n",
              "  width: 50%;\n",
              "}\n",
              "\n",
              "#sk-container-id-1 div.sk-parallel-item:only-child::after {\n",
              "  width: 0;\n",
              "}\n",
              "\n",
              "/* Serial-specific style estimator block */\n",
              "\n",
              "#sk-container-id-1 div.sk-serial {\n",
              "  display: flex;\n",
              "  flex-direction: column;\n",
              "  align-items: center;\n",
              "  background-color: var(--sklearn-color-background);\n",
              "  padding-right: 1em;\n",
              "  padding-left: 1em;\n",
              "}\n",
              "\n",
              "\n",
              "/* Toggleable style: style used for estimator/Pipeline/ColumnTransformer box that is\n",
              "clickable and can be expanded/collapsed.\n",
              "- Pipeline and ColumnTransformer use this feature and define the default style\n",
              "- Estimators will overwrite some part of the style using the `sk-estimator` class\n",
              "*/\n",
              "\n",
              "/* Pipeline and ColumnTransformer style (default) */\n",
              "\n",
              "#sk-container-id-1 div.sk-toggleable {\n",
              "  /* Default theme specific background. It is overwritten whether we have a\n",
              "  specific estimator or a Pipeline/ColumnTransformer */\n",
              "  background-color: var(--sklearn-color-background);\n",
              "}\n",
              "\n",
              "/* Toggleable label */\n",
              "#sk-container-id-1 label.sk-toggleable__label {\n",
              "  cursor: pointer;\n",
              "  display: flex;\n",
              "  width: 100%;\n",
              "  margin-bottom: 0;\n",
              "  padding: 0.5em;\n",
              "  box-sizing: border-box;\n",
              "  text-align: center;\n",
              "  align-items: start;\n",
              "  justify-content: space-between;\n",
              "  gap: 0.5em;\n",
              "}\n",
              "\n",
              "#sk-container-id-1 label.sk-toggleable__label .caption {\n",
              "  font-size: 0.6rem;\n",
              "  font-weight: lighter;\n",
              "  color: var(--sklearn-color-text-muted);\n",
              "}\n",
              "\n",
              "#sk-container-id-1 label.sk-toggleable__label-arrow:before {\n",
              "  /* Arrow on the left of the label */\n",
              "  content: \"▸\";\n",
              "  float: left;\n",
              "  margin-right: 0.25em;\n",
              "  color: var(--sklearn-color-icon);\n",
              "}\n",
              "\n",
              "#sk-container-id-1 label.sk-toggleable__label-arrow:hover:before {\n",
              "  color: var(--sklearn-color-text);\n",
              "}\n",
              "\n",
              "/* Toggleable content - dropdown */\n",
              "\n",
              "#sk-container-id-1 div.sk-toggleable__content {\n",
              "  max-height: 0;\n",
              "  max-width: 0;\n",
              "  overflow: hidden;\n",
              "  text-align: left;\n",
              "  /* unfitted */\n",
              "  background-color: var(--sklearn-color-unfitted-level-0);\n",
              "}\n",
              "\n",
              "#sk-container-id-1 div.sk-toggleable__content.fitted {\n",
              "  /* fitted */\n",
              "  background-color: var(--sklearn-color-fitted-level-0);\n",
              "}\n",
              "\n",
              "#sk-container-id-1 div.sk-toggleable__content pre {\n",
              "  margin: 0.2em;\n",
              "  border-radius: 0.25em;\n",
              "  color: var(--sklearn-color-text);\n",
              "  /* unfitted */\n",
              "  background-color: var(--sklearn-color-unfitted-level-0);\n",
              "}\n",
              "\n",
              "#sk-container-id-1 div.sk-toggleable__content.fitted pre {\n",
              "  /* unfitted */\n",
              "  background-color: var(--sklearn-color-fitted-level-0);\n",
              "}\n",
              "\n",
              "#sk-container-id-1 input.sk-toggleable__control:checked~div.sk-toggleable__content {\n",
              "  /* Expand drop-down */\n",
              "  max-height: 200px;\n",
              "  max-width: 100%;\n",
              "  overflow: auto;\n",
              "}\n",
              "\n",
              "#sk-container-id-1 input.sk-toggleable__control:checked~label.sk-toggleable__label-arrow:before {\n",
              "  content: \"▾\";\n",
              "}\n",
              "\n",
              "/* Pipeline/ColumnTransformer-specific style */\n",
              "\n",
              "#sk-container-id-1 div.sk-label input.sk-toggleable__control:checked~label.sk-toggleable__label {\n",
              "  color: var(--sklearn-color-text);\n",
              "  background-color: var(--sklearn-color-unfitted-level-2);\n",
              "}\n",
              "\n",
              "#sk-container-id-1 div.sk-label.fitted input.sk-toggleable__control:checked~label.sk-toggleable__label {\n",
              "  background-color: var(--sklearn-color-fitted-level-2);\n",
              "}\n",
              "\n",
              "/* Estimator-specific style */\n",
              "\n",
              "/* Colorize estimator box */\n",
              "#sk-container-id-1 div.sk-estimator input.sk-toggleable__control:checked~label.sk-toggleable__label {\n",
              "  /* unfitted */\n",
              "  background-color: var(--sklearn-color-unfitted-level-2);\n",
              "}\n",
              "\n",
              "#sk-container-id-1 div.sk-estimator.fitted input.sk-toggleable__control:checked~label.sk-toggleable__label {\n",
              "  /* fitted */\n",
              "  background-color: var(--sklearn-color-fitted-level-2);\n",
              "}\n",
              "\n",
              "#sk-container-id-1 div.sk-label label.sk-toggleable__label,\n",
              "#sk-container-id-1 div.sk-label label {\n",
              "  /* The background is the default theme color */\n",
              "  color: var(--sklearn-color-text-on-default-background);\n",
              "}\n",
              "\n",
              "/* On hover, darken the color of the background */\n",
              "#sk-container-id-1 div.sk-label:hover label.sk-toggleable__label {\n",
              "  color: var(--sklearn-color-text);\n",
              "  background-color: var(--sklearn-color-unfitted-level-2);\n",
              "}\n",
              "\n",
              "/* Label box, darken color on hover, fitted */\n",
              "#sk-container-id-1 div.sk-label.fitted:hover label.sk-toggleable__label.fitted {\n",
              "  color: var(--sklearn-color-text);\n",
              "  background-color: var(--sklearn-color-fitted-level-2);\n",
              "}\n",
              "\n",
              "/* Estimator label */\n",
              "\n",
              "#sk-container-id-1 div.sk-label label {\n",
              "  font-family: monospace;\n",
              "  font-weight: bold;\n",
              "  display: inline-block;\n",
              "  line-height: 1.2em;\n",
              "}\n",
              "\n",
              "#sk-container-id-1 div.sk-label-container {\n",
              "  text-align: center;\n",
              "}\n",
              "\n",
              "/* Estimator-specific */\n",
              "#sk-container-id-1 div.sk-estimator {\n",
              "  font-family: monospace;\n",
              "  border: 1px dotted var(--sklearn-color-border-box);\n",
              "  border-radius: 0.25em;\n",
              "  box-sizing: border-box;\n",
              "  margin-bottom: 0.5em;\n",
              "  /* unfitted */\n",
              "  background-color: var(--sklearn-color-unfitted-level-0);\n",
              "}\n",
              "\n",
              "#sk-container-id-1 div.sk-estimator.fitted {\n",
              "  /* fitted */\n",
              "  background-color: var(--sklearn-color-fitted-level-0);\n",
              "}\n",
              "\n",
              "/* on hover */\n",
              "#sk-container-id-1 div.sk-estimator:hover {\n",
              "  /* unfitted */\n",
              "  background-color: var(--sklearn-color-unfitted-level-2);\n",
              "}\n",
              "\n",
              "#sk-container-id-1 div.sk-estimator.fitted:hover {\n",
              "  /* fitted */\n",
              "  background-color: var(--sklearn-color-fitted-level-2);\n",
              "}\n",
              "\n",
              "/* Specification for estimator info (e.g. \"i\" and \"?\") */\n",
              "\n",
              "/* Common style for \"i\" and \"?\" */\n",
              "\n",
              ".sk-estimator-doc-link,\n",
              "a:link.sk-estimator-doc-link,\n",
              "a:visited.sk-estimator-doc-link {\n",
              "  float: right;\n",
              "  font-size: smaller;\n",
              "  line-height: 1em;\n",
              "  font-family: monospace;\n",
              "  background-color: var(--sklearn-color-background);\n",
              "  border-radius: 1em;\n",
              "  height: 1em;\n",
              "  width: 1em;\n",
              "  text-decoration: none !important;\n",
              "  margin-left: 0.5em;\n",
              "  text-align: center;\n",
              "  /* unfitted */\n",
              "  border: var(--sklearn-color-unfitted-level-1) 1pt solid;\n",
              "  color: var(--sklearn-color-unfitted-level-1);\n",
              "}\n",
              "\n",
              ".sk-estimator-doc-link.fitted,\n",
              "a:link.sk-estimator-doc-link.fitted,\n",
              "a:visited.sk-estimator-doc-link.fitted {\n",
              "  /* fitted */\n",
              "  border: var(--sklearn-color-fitted-level-1) 1pt solid;\n",
              "  color: var(--sklearn-color-fitted-level-1);\n",
              "}\n",
              "\n",
              "/* On hover */\n",
              "div.sk-estimator:hover .sk-estimator-doc-link:hover,\n",
              ".sk-estimator-doc-link:hover,\n",
              "div.sk-label-container:hover .sk-estimator-doc-link:hover,\n",
              ".sk-estimator-doc-link:hover {\n",
              "  /* unfitted */\n",
              "  background-color: var(--sklearn-color-unfitted-level-3);\n",
              "  color: var(--sklearn-color-background);\n",
              "  text-decoration: none;\n",
              "}\n",
              "\n",
              "div.sk-estimator.fitted:hover .sk-estimator-doc-link.fitted:hover,\n",
              ".sk-estimator-doc-link.fitted:hover,\n",
              "div.sk-label-container:hover .sk-estimator-doc-link.fitted:hover,\n",
              ".sk-estimator-doc-link.fitted:hover {\n",
              "  /* fitted */\n",
              "  background-color: var(--sklearn-color-fitted-level-3);\n",
              "  color: var(--sklearn-color-background);\n",
              "  text-decoration: none;\n",
              "}\n",
              "\n",
              "/* Span, style for the box shown on hovering the info icon */\n",
              ".sk-estimator-doc-link span {\n",
              "  display: none;\n",
              "  z-index: 9999;\n",
              "  position: relative;\n",
              "  font-weight: normal;\n",
              "  right: .2ex;\n",
              "  padding: .5ex;\n",
              "  margin: .5ex;\n",
              "  width: min-content;\n",
              "  min-width: 20ex;\n",
              "  max-width: 50ex;\n",
              "  color: var(--sklearn-color-text);\n",
              "  box-shadow: 2pt 2pt 4pt #999;\n",
              "  /* unfitted */\n",
              "  background: var(--sklearn-color-unfitted-level-0);\n",
              "  border: .5pt solid var(--sklearn-color-unfitted-level-3);\n",
              "}\n",
              "\n",
              ".sk-estimator-doc-link.fitted span {\n",
              "  /* fitted */\n",
              "  background: var(--sklearn-color-fitted-level-0);\n",
              "  border: var(--sklearn-color-fitted-level-3);\n",
              "}\n",
              "\n",
              ".sk-estimator-doc-link:hover span {\n",
              "  display: block;\n",
              "}\n",
              "\n",
              "/* \"?\"-specific style due to the `<a>` HTML tag */\n",
              "\n",
              "#sk-container-id-1 a.estimator_doc_link {\n",
              "  float: right;\n",
              "  font-size: 1rem;\n",
              "  line-height: 1em;\n",
              "  font-family: monospace;\n",
              "  background-color: var(--sklearn-color-background);\n",
              "  border-radius: 1rem;\n",
              "  height: 1rem;\n",
              "  width: 1rem;\n",
              "  text-decoration: none;\n",
              "  /* unfitted */\n",
              "  color: var(--sklearn-color-unfitted-level-1);\n",
              "  border: var(--sklearn-color-unfitted-level-1) 1pt solid;\n",
              "}\n",
              "\n",
              "#sk-container-id-1 a.estimator_doc_link.fitted {\n",
              "  /* fitted */\n",
              "  border: var(--sklearn-color-fitted-level-1) 1pt solid;\n",
              "  color: var(--sklearn-color-fitted-level-1);\n",
              "}\n",
              "\n",
              "/* On hover */\n",
              "#sk-container-id-1 a.estimator_doc_link:hover {\n",
              "  /* unfitted */\n",
              "  background-color: var(--sklearn-color-unfitted-level-3);\n",
              "  color: var(--sklearn-color-background);\n",
              "  text-decoration: none;\n",
              "}\n",
              "\n",
              "#sk-container-id-1 a.estimator_doc_link.fitted:hover {\n",
              "  /* fitted */\n",
              "  background-color: var(--sklearn-color-fitted-level-3);\n",
              "}\n",
              "</style><div id=\"sk-container-id-1\" class=\"sk-top-container\"><div class=\"sk-text-repr-fallback\"><pre>MLPClassifier(activation=&#x27;tanh&#x27;, hidden_layer_sizes=(80, 70, 60), max_iter=500,\n",
              "              random_state=1)</pre><b>In a Jupyter environment, please rerun this cell to show the HTML representation or trust the notebook. <br />On GitHub, the HTML representation is unable to render, please try loading this page with nbviewer.org.</b></div><div class=\"sk-container\" hidden><div class=\"sk-item\"><div class=\"sk-estimator fitted sk-toggleable\"><input class=\"sk-toggleable__control sk-hidden--visually\" id=\"sk-estimator-id-1\" type=\"checkbox\" checked><label for=\"sk-estimator-id-1\" class=\"sk-toggleable__label fitted sk-toggleable__label-arrow\"><div><div>MLPClassifier</div></div><div><a class=\"sk-estimator-doc-link fitted\" rel=\"noreferrer\" target=\"_blank\" href=\"https://scikit-learn.org/1.6/modules/generated/sklearn.neural_network.MLPClassifier.html\">?<span>Documentation for MLPClassifier</span></a><span class=\"sk-estimator-doc-link fitted\">i<span>Fitted</span></span></div></label><div class=\"sk-toggleable__content fitted\"><pre>MLPClassifier(activation=&#x27;tanh&#x27;, hidden_layer_sizes=(80, 70, 60), max_iter=500,\n",
              "              random_state=1)</pre></div> </div></div></div></div>"
            ],
            "text/plain": [
              "MLPClassifier(activation='tanh', hidden_layer_sizes=(80, 70, 60), max_iter=500,\n",
              "              random_state=1)"
            ]
          },
          "execution_count": 26,
          "metadata": {},
          "output_type": "execute_result"
        }
      ],
      "source": [
        "from sklearn.preprocessing import StandardScaler\n",
        "from sklearn.neural_network import MLPClassifier\n",
        "\n",
        "mlp_sf = MLPClassifier(hidden_layer_sizes=(80,70,60), activation='tanh', solver='adam', max_iter=500, random_state=1)\n",
        "mlp_sf.fit(X_train_res,y_train_res)"
      ]
    },
    {
      "cell_type": "markdown",
      "id": "UGFQCsuHCAFi",
      "metadata": {
        "id": "UGFQCsuHCAFi"
      },
      "source": [
        "The MLP model has three hidden layers, with 80, 70, and 60 neurons in each layer, respectively. The activation function used in each neuron is the hyperbolic tangent function (\"tanh\"). The optimization algorithm used to train the model is the \"adam\" solver, which is a stochastic gradient-based optimizer. The maximum number of iterations for the solver is set to 500."
      ]
    },
    {
      "cell_type": "code",
      "execution_count": 27,
      "id": "j3FCt30FeuP5",
      "metadata": {
        "colab": {
          "base_uri": "https://localhost:8080/"
        },
        "id": "j3FCt30FeuP5",
        "outputId": "75223853-e683-4eaf-cec3-542f2ac07c53"
      },
      "outputs": [
        {
          "name": "stdout",
          "output_type": "stream",
          "text": [
            "              precision    recall  f1-score   support\n",
            "\n",
            "           0       1.00      1.00      1.00     54011\n",
            "           1       0.77      0.78      0.77        92\n",
            "\n",
            "    accuracy                           1.00     54103\n",
            "   macro avg       0.88      0.89      0.89     54103\n",
            "weighted avg       1.00      1.00      1.00     54103\n",
            "\n"
          ]
        }
      ],
      "source": [
        "#mlp_sf.fit(train_X,y_train_sf)\n",
        "y_pred_nn2_sf = mlp_sf.predict(X_test)\n",
        "#accuracy_score(y_test, y_pred_nn2_sf)\n",
        "\n",
        "\n",
        "y_pred = mlp_sf.predict(X_test)\n",
        "y_pred = (y_pred > 0.5)\n",
        "print(classification_report(y_test, y_pred))"
      ]
    },
    {
      "cell_type": "markdown",
      "id": "9gsw-B76jigX",
      "metadata": {
        "id": "9gsw-B76jigX"
      },
      "source": [
        "### **LSTM Model**"
      ]
    },
    {
      "cell_type": "code",
      "execution_count": 28,
      "id": "OObgrQ5kl1ym",
      "metadata": {
        "id": "OObgrQ5kl1ym"
      },
      "outputs": [],
      "source": [
        "from keras.models import Sequential\n",
        "from keras.layers import LSTM, Dense\n",
        "from sklearn.metrics import accuracy_score\n",
        "\n",
        "# Reshape data for LSTM\n",
        "#X_train_res_pca = X_train_res_pca.reshape(X_train_res_pca.shape[0], 1, X_train_res_pca.shape[1])\n",
        "#X_test_pca = X_test_pca.reshape(X_test_pca.shape[0], 1, X_test_pca.shape[1])\n",
        "\n",
        "# Build LSTM model\n",
        "model = Sequential()\n",
        "model.add(LSTM(70, input_shape=(np.shape(X_train_res)[1],1), activation='tanh', return_sequences=True))\n",
        "model.add(LSTM(60, activation='tanh'))\n",
        "model.add(Dense(50, activation='tanh'))\n",
        "model.add(Dense(1, activation='sigmoid'))\n",
        "\n",
        "model.compile(loss='binary_crossentropy', optimizer='adam', metrics=['accuracy'])\n",
        "\n"
      ]
    },
    {
      "cell_type": "markdown",
      "id": "6nqWMb-PCyTo",
      "metadata": {
        "id": "6nqWMb-PCyTo"
      },
      "source": [
        "This code builds an LSTM (Long Short-Term Memory) model using the Keras library in Python.\n",
        "\n",
        "The first line creates an instance of a Sequential model object. This object allows us to add layers to the model one after the other, in a linear stack.\n",
        "\n",
        "The next four lines add layers to the model. The first layer is an LSTM layer with 70 neurons, using the hyperbolic tangent activation function ('tanh'). The input shape of this layer is set to the shape of the input data X_train_res, with the number of time steps being the length of the second dimension of the input data, and the number of features being 1. The \"return_sequences\" parameter is set to True, which means that the output of this layer will be fed into the next LSTM layer.\n",
        "\n",
        "The second layer is also an LSTM layer with 60 neurons, using the 'tanh' activation function. Since the \"return_sequences\" parameter was set to False (which is the default value), the output of this layer will be a vector rather than a sequence.\n",
        "\n",
        "The third layer is a fully connected Dense layer with 50 neurons and the 'tanh' activation function.\n",
        "\n",
        "The final layer is also a Dense layer with a single neuron and the sigmoid activation function. Since this is a binary classification problem, the sigmoid function is appropriate as it outputs a value between 0 and 1, representing the probability of the input belonging to class 1.\n",
        "\n",
        "The last line compiles the model, specifying the binary cross-entropy loss function, the Adam optimizer, and the accuracy metric to be used during training and evaluation.\n",
        "\n",
        "Overall, this model has two LSTM layers with 70 and 60 neurons respectively, followed by two fully connected Dense layers with 50 and 1 neurons, respectively. The model is trained to predict binary class labels and uses the sigmoid activation function in the final output layer."
      ]
    },
    {
      "cell_type": "code",
      "execution_count": 29,
      "id": "BsZOgHXwwJDx",
      "metadata": {
        "colab": {
          "base_uri": "https://localhost:8080/"
        },
        "id": "BsZOgHXwwJDx",
        "outputId": "95962f9e-0501-4b9e-fb2f-8485f3f73a3a"
      },
      "outputs": [
        {
          "name": "stdout",
          "output_type": "stream",
          "text": [
            "Epoch 1/5\n",
            "\u001b[1m13503/13503\u001b[0m \u001b[32m━━━━━━━━━━━━━━━━━━━━\u001b[0m\u001b[37m\u001b[0m \u001b[1m173s\u001b[0m 13ms/step - accuracy: 0.9767 - loss: 0.0647 - val_accuracy: 0.9913 - val_loss: 0.0298\n",
            "Epoch 2/5\n",
            "\u001b[1m13503/13503\u001b[0m \u001b[32m━━━━━━━━━━━━━━━━━━━━\u001b[0m\u001b[37m\u001b[0m \u001b[1m194s\u001b[0m 14ms/step - accuracy: 0.9959 - loss: 0.0135 - val_accuracy: 0.9963 - val_loss: 0.0145\n",
            "Epoch 3/5\n",
            "\u001b[1m13503/13503\u001b[0m \u001b[32m━━━━━━━━━━━━━━━━━━━━\u001b[0m\u001b[37m\u001b[0m \u001b[1m196s\u001b[0m 14ms/step - accuracy: 0.9977 - loss: 0.0084 - val_accuracy: 0.9978 - val_loss: 0.0098\n",
            "Epoch 4/5\n",
            "\u001b[1m13503/13503\u001b[0m \u001b[32m━━━━━━━━━━━━━━━━━━━━\u001b[0m\u001b[37m\u001b[0m \u001b[1m197s\u001b[0m 15ms/step - accuracy: 0.9985 - loss: 0.0058 - val_accuracy: 0.9974 - val_loss: 0.0117\n",
            "Epoch 5/5\n",
            "\u001b[1m13503/13503\u001b[0m \u001b[32m━━━━━━━━━━━━━━━━━━━━\u001b[0m\u001b[37m\u001b[0m \u001b[1m203s\u001b[0m 15ms/step - accuracy: 0.9988 - loss: 0.0049 - val_accuracy: 0.9978 - val_loss: 0.0105\n"
          ]
        },
        {
          "data": {
            "text/plain": [
              "<keras.src.callbacks.history.History at 0x17222a91d30>"
            ]
          },
          "execution_count": 29,
          "metadata": {},
          "output_type": "execute_result"
        }
      ],
      "source": [
        "# Fit model\n",
        "model.fit(X_train_res, y_train_res, batch_size=32, epochs=5, validation_data=(X_test, y_test))\n",
        "\n",
        "\n"
      ]
    },
    {
      "cell_type": "code",
      "execution_count": 30,
      "id": "6VBVfBF6kSrO",
      "metadata": {
        "id": "6VBVfBF6kSrO"
      },
      "outputs": [
        {
          "name": "stdout",
          "output_type": "stream",
          "text": [
            "\u001b[1m1691/1691\u001b[0m \u001b[32m━━━━━━━━━━━━━━━━━━━━\u001b[0m\u001b[37m\u001b[0m \u001b[1m10s\u001b[0m 6ms/step\n",
            "              precision    recall  f1-score   support\n",
            "\n",
            "           0       1.00      1.00      1.00     54011\n",
            "           1       0.42      0.77      0.54        92\n",
            "\n",
            "    accuracy                           1.00     54103\n",
            "   macro avg       0.71      0.88      0.77     54103\n",
            "weighted avg       1.00      1.00      1.00     54103\n",
            "\n"
          ]
        }
      ],
      "source": [
        "# Calculate accuracy score\n",
        "y_pred_lstm = model.predict(X_test)\n",
        "y_pred_lstm = (y_pred_lstm > 0.5)\n",
        "print(classification_report(y_test, y_pred_lstm))"
      ]
    },
    {
      "cell_type": "code",
      "execution_count": 31,
      "id": "CSb8K-kl3EBc",
      "metadata": {
        "id": "CSb8K-kl3EBc"
      },
      "outputs": [
        {
          "data": {
            "image/png": "[encoded data removed]",
            "text/plain": [
              "<Figure size 640x480 with 1 Axes>"
            ]
          },
          "metadata": {},
          "output_type": "display_data"
        }
      ],
      "source": [
        "from sklearn.metrics import classification_report, confusion_matrix\n",
        "\n",
        "import seaborn as sns\n",
        "\n",
        "# Generate the confusion matrix\n",
        "cm = confusion_matrix(y_test, y_pred_lstm)\n",
        "\n",
        "# Plot the confusion matrix as a heatmap\n",
        "sns.heatmap(cm, annot=True, cmap=\"Blues\", fmt=\"d\", cbar=False)\n",
        "\n",
        "# Set the axis labels and title\n",
        "plt.xlabel(\"Predicted Label\")\n",
        "plt.ylabel(\"True Label\")\n",
        "plt.title(\"Confusion Matrix\")\n",
        "\n",
        "# Show the plot\n",
        "plt.show()"
      ]
    },
    {
      "cell_type": "markdown",
      "id": "kLtimu-fjNsr",
      "metadata": {
        "id": "kLtimu-fjNsr"
      },
      "source": [
        "## **Best Model - Sequential ANN with Hyper-tuned parameters**"
      ]
    },
    {
      "cell_type": "code",
      "execution_count": 32,
      "id": "-cEyMDcRpC_B",
      "metadata": {
        "id": "-cEyMDcRpC_B"
      },
      "outputs": [],
      "source": [
        "import tensorflow as tf\n",
        "from tensorflow import keras\n",
        "from keras.models import Sequential\n",
        "from keras.layers import Dense\n",
        "from keras.layers import Dropout\n",
        "from keras import regularizers\n",
        "\n",
        "# Set random seed for TensorFlow\n",
        "tf.random.set_seed(89989966)\n",
        "\n",
        "# Set random seed for NumPy\n",
        "np.random.seed(89989966)\n",
        "\n",
        "n_features = X_train_res.shape[1]"
      ]
    },
    {
      "cell_type": "markdown",
      "id": "gZXxrtymDfGz",
      "metadata": {
        "id": "gZXxrtymDfGz"
      },
      "source": [
        "This code builds a neural network model using the Keras library in Python.\n",
        "\n",
        "The model consists of three fully connected Dense layers. The first Dense layer has 32 neurons, uses the 'relu' activation function, and applies the He normal weight initialization technique. It also applies L2 regularization with a regularization rate of 0.0001 to prevent overfitting.\n",
        "\n",
        "The next layer is a Dropout layer, which randomly drops out a fraction (in this case, 0.1) of the previous layer's outputs during training to further prevent overfitting.\n",
        "\n",
        "The second Dense layer has 16 neurons, uses the 'relu' activation function, and applies the He normal weight initialization technique. It also applies L2 regularization with a regularization rate of 0.0001 to prevent overfitting.\n",
        "\n",
        "The next layer is another Dropout layer, which randomly drops out a fraction (in this case, 0.1) of the previous layer's outputs during training to further prevent overfitting.\n",
        "\n",
        "The last Dense layer has a single neuron, uses the sigmoid activation function, and applies the He normal weight initialization technique. It is used for binary classification problems, where the output of the model represents the probability of the input belonging to class 1.\n",
        "\n",
        "Overall, this model is designed to address overfitting through the use of dropout regularization and L2 regularization. It uses the 'relu' activation function for the hidden layers and the sigmoid activation function for the output layer."
      ]
    },
    {
      "cell_type": "code",
      "execution_count": 33,
      "id": "Qf7b5QIZnU7b",
      "metadata": {
        "id": "Qf7b5QIZnU7b"
      },
      "outputs": [],
      "source": [
        "model_hyper_param_tuned = keras.Sequential([\n",
        "    keras.layers.Dense(units=32, kernel_initializer='he_normal', activation='relu', kernel_regularizer=regularizers.l2(0.0001)),\n",
        "    keras.layers.Dropout(rate=0.1),\n",
        "    keras.layers.Dense(units=16, kernel_initializer='he_normal', activation='relu', kernel_regularizer=regularizers.l2(0.0001)),\n",
        "    keras.layers.Dropout(rate=0.1),\n",
        "    keras.layers.Dense(units=1, kernel_initializer='he_normal', activation='sigmoid')\n",
        "])"
      ]
    },
    {
      "cell_type": "code",
      "execution_count": 34,
      "id": "V-pbCxkrpTOp",
      "metadata": {
        "id": "V-pbCxkrpTOp"
      },
      "outputs": [
        {
          "name": "stdout",
          "output_type": "stream",
          "text": [
            "Epoch 1/10\n",
            "\u001b[1m10803/10803\u001b[0m \u001b[32m━━━━━━━━━━━━━━━━━━━━\u001b[0m\u001b[37m\u001b[0m \u001b[1m15s\u001b[0m 1ms/step - accuracy: 0.9835 - loss: 0.0574 - val_accuracy: 0.9994 - val_loss: 0.0239\n",
            "Epoch 2/10\n",
            "\u001b[1m10803/10803\u001b[0m \u001b[32m━━━━━━━━━━━━━━━━━━━━\u001b[0m\u001b[37m\u001b[0m \u001b[1m13s\u001b[0m 1ms/step - accuracy: 0.9969 - loss: 0.0201 - val_accuracy: 1.0000 - val_loss: 0.0128\n",
            "Epoch 3/10\n",
            "\u001b[1m10803/10803\u001b[0m \u001b[32m━━━━━━━━━━━━━━━━━━━━\u001b[0m\u001b[37m\u001b[0m \u001b[1m13s\u001b[0m 1ms/step - accuracy: 0.9979 - loss: 0.0151 - val_accuracy: 0.9999 - val_loss: 0.0121\n",
            "Epoch 4/10\n",
            "\u001b[1m10803/10803\u001b[0m \u001b[32m━━━━━━━━━━━━━━━━━━━━\u001b[0m\u001b[37m\u001b[0m \u001b[1m12s\u001b[0m 1ms/step - accuracy: 0.9982 - loss: 0.0132 - val_accuracy: 0.9983 - val_loss: 0.0160\n",
            "Epoch 5/10\n",
            "\u001b[1m10803/10803\u001b[0m \u001b[32m━━━━━━━━━━━━━━━━━━━━\u001b[0m\u001b[37m\u001b[0m \u001b[1m12s\u001b[0m 1ms/step - accuracy: 0.9984 - loss: 0.0120 - val_accuracy: 0.9997 - val_loss: 0.0082\n",
            "Epoch 6/10\n",
            "\u001b[1m10803/10803\u001b[0m \u001b[32m━━━━━━━━━━━━━━━━━━━━\u001b[0m\u001b[37m\u001b[0m \u001b[1m14s\u001b[0m 1ms/step - accuracy: 0.9985 - loss: 0.0113 - val_accuracy: 1.0000 - val_loss: 0.0095\n",
            "Epoch 7/10\n",
            "\u001b[1m10803/10803\u001b[0m \u001b[32m━━━━━━━━━━━━━━━━━━━━\u001b[0m\u001b[37m\u001b[0m \u001b[1m13s\u001b[0m 1ms/step - accuracy: 0.9985 - loss: 0.0109 - val_accuracy: 1.0000 - val_loss: 0.0071\n",
            "Epoch 8/10\n",
            "\u001b[1m10803/10803\u001b[0m \u001b[32m━━━━━━━━━━━━━━━━━━━━\u001b[0m\u001b[37m\u001b[0m \u001b[1m13s\u001b[0m 1ms/step - accuracy: 0.9986 - loss: 0.0108 - val_accuracy: 1.0000 - val_loss: 0.0079\n",
            "Epoch 9/10\n",
            "\u001b[1m10803/10803\u001b[0m \u001b[32m━━━━━━━━━━━━━━━━━━━━\u001b[0m\u001b[37m\u001b[0m \u001b[1m16s\u001b[0m 1ms/step - accuracy: 0.9986 - loss: 0.0104 - val_accuracy: 1.0000 - val_loss: 0.0065\n",
            "Epoch 10/10\n",
            "\u001b[1m10803/10803\u001b[0m \u001b[32m━━━━━━━━━━━━━━━━━━━━\u001b[0m\u001b[37m\u001b[0m \u001b[1m13s\u001b[0m 1ms/step - accuracy: 0.9986 - loss: 0.0103 - val_accuracy: 1.0000 - val_loss: 0.0090\n"
          ]
        }
      ],
      "source": [
        "#Compile\n",
        "model_hyper_param_tuned.compile(optimizer='adam',loss='binary_crossentropy',metrics=['accuracy'])\n",
        "\n",
        "# Train the ANN\n",
        "history = model_hyper_param_tuned.fit(X_train_res, y_train_res, batch_size = 32, epochs = 10,validation_split=0.2)"
      ]
    },
    {
      "cell_type": "markdown",
      "id": "btoyk_JtDva7",
      "metadata": {
        "id": "btoyk_JtDva7"
      },
      "source": [
        "This code compiles the previously defined neural network model using the Adam optimizer and binary cross-entropy loss function, which are commonly used for binary classification tasks. It also specifies that the model's performance should be evaluated based on accuracy.\n",
        "\n",
        "The model is then trained using the fit() method, with the training data (X_train_res and y_train_res) as inputs. The training is performed over 10 epochs (i.e., the model is trained on the entire training data set 10 times), with a batch size of 32 (i.e., the model is trained on 32 examples at a time). Additionally, a validation split of 0.2 is used, meaning that 20% of the training data is set aside for validation during training to monitor the model's performance on data it has not been trained on.\n",
        "\n",
        "The fit() method returns a history object that contains information about the training process, such as the loss and accuracy at each epoch. This information can be used to visualize the model's performance and make adjustments if necessary."
      ]
    },
    {
      "cell_type": "code",
      "execution_count": 35,
      "id": "vOLfKKsOq1-3",
      "metadata": {
        "id": "vOLfKKsOq1-3"
      },
      "outputs": [
        {
          "name": "stdout",
          "output_type": "stream",
          "text": [
            "\u001b[1m1691/1691\u001b[0m \u001b[32m━━━━━━━━━━━━━━━━━━━━\u001b[0m\u001b[37m\u001b[0m \u001b[1m2s\u001b[0m 1ms/step\n",
            "              precision    recall  f1-score   support\n",
            "\n",
            "           0       1.00      1.00      1.00     54011\n",
            "           1       0.57      0.79      0.66        92\n",
            "\n",
            "    accuracy                           1.00     54103\n",
            "   macro avg       0.78      0.90      0.83     54103\n",
            "weighted avg       1.00      1.00      1.00     54103\n",
            "\n"
          ]
        }
      ],
      "source": [
        "y_pred = model_hyper_param_tuned.predict(X_test)\n",
        "y_pred = (y_pred > 0.5)\n",
        "print(classification_report(y_test, y_pred))"
      ]
    },
    {
      "cell_type": "markdown",
      "id": "-cQl8KM9D_4O",
      "metadata": {
        "id": "-cQl8KM9D_4O"
      },
      "source": [
        "These results suggest that the model is performing well on the given data. The overall accuracy is high, indicating that the model is able to correctly classify the majority of instances in the dataset. The precision score of 1.00 for the majority class (0) suggests that the model is able to identify all instances of the majority class correctly.\n",
        "\n",
        "Moreover, the recall score of 0.79 for the minority class (1) indicates that the model is able to identify a high proportion of instances of the minority class. The F1-score of 0.72 for the minority class is also relatively high, indicating a good balance between precision and recall.\n",
        "\n",
        "Overall, these results suggest that the model is performing well on this classification task and is able to identify instances of both the majority and minority class with a high degree of accuracy."
      ]
    },
    {
      "cell_type": "code",
      "execution_count": 36,
      "id": "oQ0mZ8Ib2kZH",
      "metadata": {
        "id": "oQ0mZ8Ib2kZH"
      },
      "outputs": [
        {
          "data": {
            "image/png": "[encoded data removed]",
            "text/plain": [
              "<Figure size 640x480 with 1 Axes>"
            ]
          },
          "metadata": {},
          "output_type": "display_data"
        }
      ],
      "source": [
        "from sklearn.metrics import classification_report, confusion_matrix\n",
        "\n",
        "import seaborn as sns\n",
        "\n",
        "# Generate the confusion matrix\n",
        "cm = confusion_matrix(y_test, y_pred)\n",
        "\n",
        "# Plot the confusion matrix as a heatmap\n",
        "sns.heatmap(cm, annot=True, cmap=\"Blues\", fmt=\"d\", cbar=False)\n",
        "\n",
        "# Set the axis labels and title\n",
        "plt.xlabel(\"Predicted Label\")\n",
        "plt.ylabel(\"True Label\")\n",
        "plt.title(\"Confusion Matrix\")\n",
        "\n",
        "# Show the plot\n",
        "plt.show()\n"
      ]
    },
    {
      "cell_type": "code",
      "execution_count": null,
      "id": "pjlqdiUnCPak",
      "metadata": {
        "id": "pjlqdiUnCPak"
      },
      "outputs": [],
      "source": []
    },
    {
      "cell_type": "code",
      "execution_count": null,
      "id": "3a967ba3",
      "metadata": {},
      "outputs": [],
      "source": []
    },
    {
      "cell_type": "code",
      "execution_count": null,
      "id": "4afc9734",
      "metadata": {},
      "outputs": [],
      "source": []
    },
    {
      "cell_type": "code",
      "execution_count": null,
      "id": "60d76603",
      "metadata": {},
      "outputs": [],
      "source": []
    },
    {
      "cell_type": "code",
      "execution_count": null,
      "id": "11446393",
      "metadata": {},
      "outputs": [],
      "source": []
    }
  ],
  "metadata": {
    "colab": {
      "provenance": []
    },
    "kernelspec": {
      "display_name": "venv",
      "language": "python",
      "name": "python3"
    },
    "language_info": {
      "codemirror_mode": {
        "name": "ipython",
        "version": 3
      },
      "file_extension": ".py",
      "mimetype": "text/x-python",
      "name": "python",
      "nbconvert_exporter": "python",
      "pygments_lexer": "ipython3",
      "version": "3.12.2"
    }
  },
  "nbformat": 4,
  "nbformat_minor": 5
}
